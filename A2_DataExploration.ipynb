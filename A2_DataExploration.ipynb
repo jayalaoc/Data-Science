{
 "cells": [
  {
   "cell_type": "raw",
   "metadata": {},
   "source": []
  },
  {
   "cell_type": "markdown",
   "metadata": {
    "collapsed": true,
    "deletable": false,
    "editable": false,
    "nbgrader": {
     "cell_type": "markdown",
     "checksum": "69dc79a98716b6e1164c70b1e4e20d44",
     "grade": false,
     "grade_id": "title",
     "locked": true,
     "schema_version": 3,
     "solution": false
    }
   },
   "source": [
    "# COGS 108 - Assignment 2: Data Exploration"
   ]
  },
  {
   "cell_type": "markdown",
   "metadata": {
    "deletable": false,
    "editable": false,
    "nbgrader": {
     "cell_type": "markdown",
     "checksum": "1f0c9b268a2fc1d6986f94fa722c39cb",
     "grade": false,
     "grade_id": "submission",
     "locked": true,
     "schema_version": 3,
     "solution": false
    }
   },
   "source": [
    "# Important\n",
    "\n",
    "**You must submit this file (`A2_DataExploration.ipynb`) to datahub to finish the homework.**\n",
    "\n",
    "**This assignment has more than 5 times as many questions as A1! Get started as early as possible.**\n",
    "\n",
    "This assignment has hidden tests: tests that are not visible here, but that will be run on your submitted assignment.\n",
    "\n",
    "- This means passing all the tests you can see in the notebook here does not guarantee you have the right answer!\n",
    "\n",
    "Each coding question in this assignment only requires a small amount of code, about 1-3 lines. \n",
    "\n",
    "  - If you find yourself writing much more than that, you might want to reconsider your approach. \n",
    "  - Use the Tutorials notebooks as reference, as they often contain similar examples to those used in the assignment."
   ]
  },
  {
   "cell_type": "code",
   "execution_count": 2,
   "metadata": {
    "deletable": false,
    "editable": false,
    "nbgrader": {
     "cell_type": "code",
     "checksum": "271b258c19b889b4357400626f7cf9ef",
     "grade": false,
     "grade_id": "cell-fca732b050a3b0b8",
     "locked": true,
     "schema_version": 3,
     "solution": false
    }
   },
   "outputs": [],
   "source": [
    "# Imports\n",
    "# \n",
    "# Note: these are all the imports you need for this assignment!\n",
    "# Do not import any other functions / packages\n",
    "\n",
    "# Display plots directly in the notebook instead of in a new window\n",
    "%matplotlib inline\n",
    "\n",
    "# Import libraries\n",
    "import numpy as np\n",
    "import pandas as pd\n",
    "import matplotlib.pyplot as plt\n",
    "import seaborn as sns"
   ]
  },
  {
   "cell_type": "code",
   "execution_count": 3,
   "metadata": {
    "deletable": false,
    "editable": false,
    "nbgrader": {
     "cell_type": "code",
     "checksum": "9e9d30b2be8a7ab888b24db65cbc4355",
     "grade": false,
     "grade_id": "cell-ae128c474f27ec12",
     "locked": true,
     "schema_version": 3,
     "solution": false
    }
   },
   "outputs": [],
   "source": [
    "# Configure libraries\n",
    "# The seaborn library makes plots look nicer\n",
    "sns.set()\n",
    "sns.set_context('talk')\n",
    "\n",
    "# Don't display too many rows/cols of DataFrames\n",
    "pd.options.display.max_rows = 7\n",
    "pd.options.display.max_columns = 8\n",
    "\n",
    "# Round decimals when displaying DataFrames\n",
    "pd.set_option('precision', 2)"
   ]
  },
  {
   "cell_type": "markdown",
   "metadata": {
    "deletable": false,
    "editable": false,
    "nbgrader": {
     "cell_type": "markdown",
     "checksum": "aae5d0b6ba77e6be73423d198af52a01",
     "grade": false,
     "grade_id": "part1",
     "locked": true,
     "schema_version": 3,
     "solution": false
    }
   },
   "source": [
    "## Part 1 - Data Wrangling\n",
    "\n",
    "For this assignment, you are provided with two data files that contain information on a sample of people. The two files and their columns are:\n",
    "\n",
    "- `age_steps.csv`: Contains one row for each person.\n",
    "    - `id`: Unique identifier for the person.\n",
    "    - `age`: Age of the person.\n",
    "    - `steps`: Number of steps the person took on average in January 2018.\n",
    "    \n",
    "    \n",
    "- `incomes.json`: Contains one record for each person.\n",
    "    - `id`: Unique identifier for the person. Two records with the same ID between `age_steps.csv` and `incomes.json` correspond to the same person.\n",
    "    - `last_name`: Last name of the person.\n",
    "    - `first_name`: First name of the person.\n",
    "    - `income`: Income of the person in 2018.\n",
    "    \n",
    "For part 1 and 2 of the assignment, we recommend looking at the official 10 minutes to pandas guide: http://pandas.pydata.org/pandas-docs/stable/10min.html"
   ]
  },
  {
   "cell_type": "markdown",
   "metadata": {},
   "source": [
    "**Question 1a:** Load the `age_steps.csv` file into a `pandas` DataFrame named `df_steps`. It should have 11257 rows and 3 columns."
   ]
  },
  {
   "cell_type": "code",
   "execution_count": 4,
   "metadata": {
    "deletable": false,
    "nbgrader": {
     "cell_type": "code",
     "checksum": "c6d3dc639bcfe2ff97aae5524994d88b",
     "grade": false,
     "grade_id": "load_steps",
     "locked": false,
     "schema_version": 3,
     "solution": true
    }
   },
   "outputs": [
    {
     "data": {
      "text/html": [
       "<div>\n",
       "<style scoped>\n",
       "    .dataframe tbody tr th:only-of-type {\n",
       "        vertical-align: middle;\n",
       "    }\n",
       "\n",
       "    .dataframe tbody tr th {\n",
       "        vertical-align: top;\n",
       "    }\n",
       "\n",
       "    .dataframe thead th {\n",
       "        text-align: right;\n",
       "    }\n",
       "</style>\n",
       "<table border=\"1\" class=\"dataframe\">\n",
       "  <thead>\n",
       "    <tr style=\"text-align: right;\">\n",
       "      <th></th>\n",
       "      <th>id</th>\n",
       "      <th>age</th>\n",
       "      <th>steps</th>\n",
       "    </tr>\n",
       "  </thead>\n",
       "  <tbody>\n",
       "    <tr>\n",
       "      <th>0</th>\n",
       "      <td>18875</td>\n",
       "      <td>31</td>\n",
       "      <td>9159</td>\n",
       "    </tr>\n",
       "    <tr>\n",
       "      <th>1</th>\n",
       "      <td>36859</td>\n",
       "      <td>48</td>\n",
       "      <td>6764</td>\n",
       "    </tr>\n",
       "    <tr>\n",
       "      <th>2</th>\n",
       "      <td>99794</td>\n",
       "      <td>39</td>\n",
       "      <td>4308</td>\n",
       "    </tr>\n",
       "    <tr>\n",
       "      <th>...</th>\n",
       "      <td>...</td>\n",
       "      <td>...</td>\n",
       "      <td>...</td>\n",
       "    </tr>\n",
       "    <tr>\n",
       "      <th>11254</th>\n",
       "      <td>52336</td>\n",
       "      <td>41</td>\n",
       "      <td>-1</td>\n",
       "    </tr>\n",
       "    <tr>\n",
       "      <th>11255</th>\n",
       "      <td>54972</td>\n",
       "      <td>44</td>\n",
       "      <td>7548</td>\n",
       "    </tr>\n",
       "    <tr>\n",
       "      <th>11256</th>\n",
       "      <td>17411</td>\n",
       "      <td>43</td>\n",
       "      <td>8765</td>\n",
       "    </tr>\n",
       "  </tbody>\n",
       "</table>\n",
       "<p>11257 rows × 3 columns</p>\n",
       "</div>"
      ],
      "text/plain": [
       "          id  age  steps\n",
       "0      18875   31   9159\n",
       "1      36859   48   6764\n",
       "2      99794   39   4308\n",
       "...      ...  ...    ...\n",
       "11254  52336   41     -1\n",
       "11255  54972   44   7548\n",
       "11256  17411   43   8765\n",
       "\n",
       "[11257 rows x 3 columns]"
      ]
     },
     "execution_count": 4,
     "metadata": {},
     "output_type": "execute_result"
    }
   ],
   "source": [
    "# YOUR CODE HERE\n",
    "df_steps = pd.read_csv(\"age_steps.csv\")\n",
    "\n",
    "df_steps"
   ]
  },
  {
   "cell_type": "code",
   "execution_count": 5,
   "metadata": {
    "deletable": false,
    "editable": false,
    "nbgrader": {
     "cell_type": "code",
     "checksum": "a28b051cbbf22ed4a613892328d25009",
     "grade": true,
     "grade_id": "test_load_steps",
     "locked": true,
     "points": 0.25,
     "schema_version": 3,
     "solution": false
    }
   },
   "outputs": [],
   "source": [
    "# Tests for 1a\n",
    "\n",
    "assert isinstance(df_steps, pd.DataFrame)\n",
    "assert df_steps.shape == (11257, 3)\n"
   ]
  },
  {
   "cell_type": "markdown",
   "metadata": {},
   "source": [
    "**Question 1b:** Load the `incomes.json` file into a `pandas` DataFrame called `df_income`. Make sure to pass in the value for `orient` parameter as `orient='table'`. Hint: Find a pandas function similar to `read_csv` for JSON files.\n",
    "The DataFrame should have 12665 rows and 4 columns. "
   ]
  },
  {
   "cell_type": "code",
   "execution_count": 6,
   "metadata": {
    "deletable": false,
    "nbgrader": {
     "cell_type": "code",
     "checksum": "f1b777bb79781915d311f090d2397bbe",
     "grade": false,
     "grade_id": "load_income",
     "locked": false,
     "schema_version": 3,
     "solution": true
    }
   },
   "outputs": [
    {
     "data": {
      "text/html": [
       "<div>\n",
       "<style scoped>\n",
       "    .dataframe tbody tr th:only-of-type {\n",
       "        vertical-align: middle;\n",
       "    }\n",
       "\n",
       "    .dataframe tbody tr th {\n",
       "        vertical-align: top;\n",
       "    }\n",
       "\n",
       "    .dataframe thead th {\n",
       "        text-align: right;\n",
       "    }\n",
       "</style>\n",
       "<table border=\"1\" class=\"dataframe\">\n",
       "  <thead>\n",
       "    <tr style=\"text-align: right;\">\n",
       "      <th></th>\n",
       "      <th>first_name</th>\n",
       "      <th>id</th>\n",
       "      <th>income</th>\n",
       "      <th>last_name</th>\n",
       "    </tr>\n",
       "  </thead>\n",
       "  <tbody>\n",
       "    <tr>\n",
       "      <th>0</th>\n",
       "      <td>Lauren</td>\n",
       "      <td>1592</td>\n",
       "      <td>23951.49</td>\n",
       "      <td>Murphy</td>\n",
       "    </tr>\n",
       "    <tr>\n",
       "      <th>1</th>\n",
       "      <td>Rebecca</td>\n",
       "      <td>27495</td>\n",
       "      <td>31019.37</td>\n",
       "      <td>Walls</td>\n",
       "    </tr>\n",
       "    <tr>\n",
       "      <th>2</th>\n",
       "      <td>Alejandra</td>\n",
       "      <td>19776</td>\n",
       "      <td>19058.09</td>\n",
       "      <td>Garcia</td>\n",
       "    </tr>\n",
       "    <tr>\n",
       "      <th>...</th>\n",
       "      <td>...</td>\n",
       "      <td>...</td>\n",
       "      <td>...</td>\n",
       "      <td>...</td>\n",
       "    </tr>\n",
       "    <tr>\n",
       "      <th>12662</th>\n",
       "      <td>Mark</td>\n",
       "      <td>58060</td>\n",
       "      <td>50696.11</td>\n",
       "      <td>Torres</td>\n",
       "    </tr>\n",
       "    <tr>\n",
       "      <th>12663</th>\n",
       "      <td>Peter</td>\n",
       "      <td>13881</td>\n",
       "      <td>0.00</td>\n",
       "      <td>Gibson</td>\n",
       "    </tr>\n",
       "    <tr>\n",
       "      <th>12664</th>\n",
       "      <td>Michele</td>\n",
       "      <td>35147</td>\n",
       "      <td>19864.48</td>\n",
       "      <td>Robinson</td>\n",
       "    </tr>\n",
       "  </tbody>\n",
       "</table>\n",
       "<p>12665 rows × 4 columns</p>\n",
       "</div>"
      ],
      "text/plain": [
       "      first_name     id    income last_name\n",
       "0         Lauren   1592  23951.49    Murphy\n",
       "1        Rebecca  27495  31019.37     Walls\n",
       "2      Alejandra  19776  19058.09    Garcia\n",
       "...          ...    ...       ...       ...\n",
       "12662       Mark  58060  50696.11    Torres\n",
       "12663      Peter  13881      0.00    Gibson\n",
       "12664    Michele  35147  19864.48  Robinson\n",
       "\n",
       "[12665 rows x 4 columns]"
      ]
     },
     "execution_count": 6,
     "metadata": {},
     "output_type": "execute_result"
    }
   ],
   "source": [
    "# YOUR CODE HERE\n",
    "import json \n",
    "\n",
    "k = json.load(open('incomes.json'))\n",
    "k['data']\n",
    "\n",
    "df_income = pd.DataFrame(k['data'])\n",
    "\n",
    "df_income\n"
   ]
  },
  {
   "cell_type": "code",
   "execution_count": 7,
   "metadata": {
    "deletable": false,
    "editable": false,
    "nbgrader": {
     "cell_type": "code",
     "checksum": "f1efa6cd0e508de90152a0c00d6c4fee",
     "grade": true,
     "grade_id": "test_load_income",
     "locked": true,
     "points": 0.25,
     "schema_version": 3,
     "solution": false
    }
   },
   "outputs": [],
   "source": [
    "# Tests for 1b\n",
    "\n",
    "assert isinstance(df_income, pd.DataFrame)\n",
    "assert df_income.shape == (12665, 4)\n"
   ]
  },
  {
   "cell_type": "markdown",
   "metadata": {},
   "source": [
    "**Question 1c:** Drop the `first_name` and `last_name` columns from the `df_income` DataFrame. The resulting DataFrame should only have two columns."
   ]
  },
  {
   "cell_type": "code",
   "execution_count": 8,
   "metadata": {
    "deletable": false,
    "nbgrader": {
     "cell_type": "code",
     "checksum": "8d3786f3780296f277441c3f37c82530",
     "grade": false,
     "grade_id": "drop_extra_cols",
     "locked": false,
     "schema_version": 3,
     "solution": true
    }
   },
   "outputs": [
    {
     "data": {
      "text/html": [
       "<div>\n",
       "<style scoped>\n",
       "    .dataframe tbody tr th:only-of-type {\n",
       "        vertical-align: middle;\n",
       "    }\n",
       "\n",
       "    .dataframe tbody tr th {\n",
       "        vertical-align: top;\n",
       "    }\n",
       "\n",
       "    .dataframe thead th {\n",
       "        text-align: right;\n",
       "    }\n",
       "</style>\n",
       "<table border=\"1\" class=\"dataframe\">\n",
       "  <thead>\n",
       "    <tr style=\"text-align: right;\">\n",
       "      <th></th>\n",
       "      <th>id</th>\n",
       "      <th>income</th>\n",
       "    </tr>\n",
       "  </thead>\n",
       "  <tbody>\n",
       "    <tr>\n",
       "      <th>0</th>\n",
       "      <td>1592</td>\n",
       "      <td>23951.49</td>\n",
       "    </tr>\n",
       "    <tr>\n",
       "      <th>1</th>\n",
       "      <td>27495</td>\n",
       "      <td>31019.37</td>\n",
       "    </tr>\n",
       "    <tr>\n",
       "      <th>2</th>\n",
       "      <td>19776</td>\n",
       "      <td>19058.09</td>\n",
       "    </tr>\n",
       "    <tr>\n",
       "      <th>...</th>\n",
       "      <td>...</td>\n",
       "      <td>...</td>\n",
       "    </tr>\n",
       "    <tr>\n",
       "      <th>12662</th>\n",
       "      <td>58060</td>\n",
       "      <td>50696.11</td>\n",
       "    </tr>\n",
       "    <tr>\n",
       "      <th>12663</th>\n",
       "      <td>13881</td>\n",
       "      <td>0.00</td>\n",
       "    </tr>\n",
       "    <tr>\n",
       "      <th>12664</th>\n",
       "      <td>35147</td>\n",
       "      <td>19864.48</td>\n",
       "    </tr>\n",
       "  </tbody>\n",
       "</table>\n",
       "<p>12665 rows × 2 columns</p>\n",
       "</div>"
      ],
      "text/plain": [
       "          id    income\n",
       "0       1592  23951.49\n",
       "1      27495  31019.37\n",
       "2      19776  19058.09\n",
       "...      ...       ...\n",
       "12662  58060  50696.11\n",
       "12663  13881      0.00\n",
       "12664  35147  19864.48\n",
       "\n",
       "[12665 rows x 2 columns]"
      ]
     },
     "execution_count": 8,
     "metadata": {},
     "output_type": "execute_result"
    }
   ],
   "source": [
    "# YOUR CODE HERE\n",
    "df_income = df_income.drop('first_name', axis = 1)\n",
    "df_income = df_income.drop('last_name', axis = 1)\n",
    "\n",
    "df_income"
   ]
  },
  {
   "cell_type": "code",
   "execution_count": 9,
   "metadata": {
    "deletable": false,
    "editable": false,
    "nbgrader": {
     "cell_type": "code",
     "checksum": "bfe237a99eeff1a5db163d622528f750",
     "grade": true,
     "grade_id": "test_drop_ext_cols",
     "locked": true,
     "points": 0.25,
     "schema_version": 3,
     "solution": false
    }
   },
   "outputs": [],
   "source": [
    "# Tests for 1c\n",
    "\n",
    "assert 'first_name' not in df_income.columns\n",
    "assert 'last_name' not in df_income.columns\n"
   ]
  },
  {
   "cell_type": "markdown",
   "metadata": {},
   "source": [
    "**Question 1d:** Merge the `df_steps` and `df_income` DataFrames into a single combined DataFrame called `df`. Use the `id` column to match rows together.\n",
    "\n",
    "The final DataFrame should have 9623 rows and 4 columns: `id`, `income`, `age`, and `steps`.\n",
    "\n",
    "Call an appropriate `pandas` method to perform this operation; don't write a `for` loop. (In general, writing a `for` loop for a DataFrame will produce poor results.)"
   ]
  },
  {
   "cell_type": "code",
   "execution_count": 10,
   "metadata": {
    "deletable": false,
    "nbgrader": {
     "cell_type": "code",
     "checksum": "52d3e5c9c383481ee39e22c91902b338",
     "grade": false,
     "grade_id": "merge_dat",
     "locked": false,
     "schema_version": 3,
     "solution": true
    }
   },
   "outputs": [
    {
     "data": {
      "text/html": [
       "<div>\n",
       "<style scoped>\n",
       "    .dataframe tbody tr th:only-of-type {\n",
       "        vertical-align: middle;\n",
       "    }\n",
       "\n",
       "    .dataframe tbody tr th {\n",
       "        vertical-align: top;\n",
       "    }\n",
       "\n",
       "    .dataframe thead th {\n",
       "        text-align: right;\n",
       "    }\n",
       "</style>\n",
       "<table border=\"1\" class=\"dataframe\">\n",
       "  <thead>\n",
       "    <tr style=\"text-align: right;\">\n",
       "      <th></th>\n",
       "      <th>id</th>\n",
       "      <th>age</th>\n",
       "      <th>steps</th>\n",
       "      <th>income</th>\n",
       "    </tr>\n",
       "  </thead>\n",
       "  <tbody>\n",
       "    <tr>\n",
       "      <th>0</th>\n",
       "      <td>36859</td>\n",
       "      <td>48</td>\n",
       "      <td>6764</td>\n",
       "      <td>10056.43</td>\n",
       "    </tr>\n",
       "    <tr>\n",
       "      <th>1</th>\n",
       "      <td>99794</td>\n",
       "      <td>39</td>\n",
       "      <td>4308</td>\n",
       "      <td>13869.47</td>\n",
       "    </tr>\n",
       "    <tr>\n",
       "      <th>2</th>\n",
       "      <td>33364</td>\n",
       "      <td>36</td>\n",
       "      <td>6410</td>\n",
       "      <td>79634.92</td>\n",
       "    </tr>\n",
       "    <tr>\n",
       "      <th>...</th>\n",
       "      <td>...</td>\n",
       "      <td>...</td>\n",
       "      <td>...</td>\n",
       "      <td>...</td>\n",
       "    </tr>\n",
       "    <tr>\n",
       "      <th>9620</th>\n",
       "      <td>42474</td>\n",
       "      <td>28</td>\n",
       "      <td>7307</td>\n",
       "      <td>49128.60</td>\n",
       "    </tr>\n",
       "    <tr>\n",
       "      <th>9621</th>\n",
       "      <td>52336</td>\n",
       "      <td>41</td>\n",
       "      <td>-1</td>\n",
       "      <td>0.00</td>\n",
       "    </tr>\n",
       "    <tr>\n",
       "      <th>9622</th>\n",
       "      <td>17411</td>\n",
       "      <td>43</td>\n",
       "      <td>8765</td>\n",
       "      <td>88965.55</td>\n",
       "    </tr>\n",
       "  </tbody>\n",
       "</table>\n",
       "<p>9623 rows × 4 columns</p>\n",
       "</div>"
      ],
      "text/plain": [
       "         id  age  steps    income\n",
       "0     36859   48   6764  10056.43\n",
       "1     99794   39   4308  13869.47\n",
       "2     33364   36   6410  79634.92\n",
       "...     ...  ...    ...       ...\n",
       "9620  42474   28   7307  49128.60\n",
       "9621  52336   41     -1      0.00\n",
       "9622  17411   43   8765  88965.55\n",
       "\n",
       "[9623 rows x 4 columns]"
      ]
     },
     "execution_count": 10,
     "metadata": {},
     "output_type": "execute_result"
    }
   ],
   "source": [
    "# YOUR CODE HERE\n",
    "df = pd.merge(df_steps, df_income, on = 'id')\n",
    "df"
   ]
  },
  {
   "cell_type": "code",
   "execution_count": 11,
   "metadata": {
    "deletable": false,
    "editable": false,
    "nbgrader": {
     "cell_type": "code",
     "checksum": "b3c4938061a5e8aba032b339e30c458f",
     "grade": true,
     "grade_id": "test_merge_dat",
     "locked": true,
     "points": 0.25,
     "schema_version": 3,
     "solution": false
    }
   },
   "outputs": [],
   "source": [
    "# Tests for 1d\n",
    "\n",
    "assert isinstance(df, pd.DataFrame)\n",
    "assert set(df.columns) == set(['id', 'income', 'age', 'steps'])\n",
    "assert df.shape == (9623, 4)\n"
   ]
  },
  {
   "cell_type": "markdown",
   "metadata": {},
   "source": [
    "**Question 1e:** Reorder the columns of `df` so that they appear in the order: `id`, `age`, `steps`, then `income`."
   ]
  },
  {
   "cell_type": "code",
   "execution_count": 12,
   "metadata": {
    "deletable": false,
    "nbgrader": {
     "cell_type": "code",
     "checksum": "df78d0000b8e37809e58fc5d57580442",
     "grade": false,
     "grade_id": "reorder_cols",
     "locked": false,
     "schema_version": 3,
     "solution": true
    }
   },
   "outputs": [
    {
     "data": {
      "text/html": [
       "<div>\n",
       "<style scoped>\n",
       "    .dataframe tbody tr th:only-of-type {\n",
       "        vertical-align: middle;\n",
       "    }\n",
       "\n",
       "    .dataframe tbody tr th {\n",
       "        vertical-align: top;\n",
       "    }\n",
       "\n",
       "    .dataframe thead th {\n",
       "        text-align: right;\n",
       "    }\n",
       "</style>\n",
       "<table border=\"1\" class=\"dataframe\">\n",
       "  <thead>\n",
       "    <tr style=\"text-align: right;\">\n",
       "      <th></th>\n",
       "      <th>id</th>\n",
       "      <th>age</th>\n",
       "      <th>steps</th>\n",
       "      <th>income</th>\n",
       "    </tr>\n",
       "  </thead>\n",
       "  <tbody>\n",
       "    <tr>\n",
       "      <th>0</th>\n",
       "      <td>36859</td>\n",
       "      <td>48</td>\n",
       "      <td>6764</td>\n",
       "      <td>10056.43</td>\n",
       "    </tr>\n",
       "    <tr>\n",
       "      <th>1</th>\n",
       "      <td>99794</td>\n",
       "      <td>39</td>\n",
       "      <td>4308</td>\n",
       "      <td>13869.47</td>\n",
       "    </tr>\n",
       "    <tr>\n",
       "      <th>2</th>\n",
       "      <td>33364</td>\n",
       "      <td>36</td>\n",
       "      <td>6410</td>\n",
       "      <td>79634.92</td>\n",
       "    </tr>\n",
       "    <tr>\n",
       "      <th>...</th>\n",
       "      <td>...</td>\n",
       "      <td>...</td>\n",
       "      <td>...</td>\n",
       "      <td>...</td>\n",
       "    </tr>\n",
       "    <tr>\n",
       "      <th>9620</th>\n",
       "      <td>42474</td>\n",
       "      <td>28</td>\n",
       "      <td>7307</td>\n",
       "      <td>49128.60</td>\n",
       "    </tr>\n",
       "    <tr>\n",
       "      <th>9621</th>\n",
       "      <td>52336</td>\n",
       "      <td>41</td>\n",
       "      <td>-1</td>\n",
       "      <td>0.00</td>\n",
       "    </tr>\n",
       "    <tr>\n",
       "      <th>9622</th>\n",
       "      <td>17411</td>\n",
       "      <td>43</td>\n",
       "      <td>8765</td>\n",
       "      <td>88965.55</td>\n",
       "    </tr>\n",
       "  </tbody>\n",
       "</table>\n",
       "<p>9623 rows × 4 columns</p>\n",
       "</div>"
      ],
      "text/plain": [
       "         id  age  steps    income\n",
       "0     36859   48   6764  10056.43\n",
       "1     99794   39   4308  13869.47\n",
       "2     33364   36   6410  79634.92\n",
       "...     ...  ...    ...       ...\n",
       "9620  42474   28   7307  49128.60\n",
       "9621  52336   41     -1      0.00\n",
       "9622  17411   43   8765  88965.55\n",
       "\n",
       "[9623 rows x 4 columns]"
      ]
     },
     "execution_count": 12,
     "metadata": {},
     "output_type": "execute_result"
    }
   ],
   "source": [
    "# YOUR CODE HERE\n",
    "df = df[['id', 'age','steps', 'income']]\n",
    "df"
   ]
  },
  {
   "cell_type": "code",
   "execution_count": 13,
   "metadata": {
    "deletable": false,
    "editable": false,
    "nbgrader": {
     "cell_type": "code",
     "checksum": "4efcf75ac0377e914a658ca68a320f98",
     "grade": true,
     "grade_id": "test_reorder_cols",
     "locked": true,
     "points": 0.25,
     "schema_version": 3,
     "solution": false
    }
   },
   "outputs": [],
   "source": [
    "# Tests for 1e\n",
    "\n",
    "assert list(df.columns) == ['id', 'age', 'steps', 'income']"
   ]
  },
  {
   "cell_type": "markdown",
   "metadata": {
    "deletable": false,
    "editable": false,
    "nbgrader": {
     "cell_type": "markdown",
     "checksum": "17329a0783213564cec22b0084952370",
     "grade": false,
     "grade_id": "cell-e062b643319a9bcc",
     "locked": true,
     "schema_version": 3,
     "solution": false
    }
   },
   "source": [
    "**Question 1f:** You may have noticed something strange: the merged `df` DataFrame has fewer rows than either of `df_steps` and `df_income`. Why did this happen?\n",
    "\n",
    "Please select the **one** correct explanation below and save your answer in the variable `q1f_answer`. For example, if you believe choice number 4 explains why `df` has fewer rows, set `q1f_answer = 4`.\n",
    "\n",
    "1. Some steps were recorded inaccurately in `df_steps`.\n",
    "2. Some incomes were recorded inaccurately in `df_income`.\n",
    "3. Some `id` values in either `df_steps` and `df_income` were missing in the other DataFrame.\n",
    "4. There are fewer rows in `df_steps` than in `df_income`.\n",
    "5. There are fewer columns in `df_steps` than in `df_income`.\n",
    "6. Some `id` values were repeated in `df_steps` and in `df_income`.\n",
    "\n",
    "You may use the cell below to run whatever code you want to check the statements above. Just make sure to set `q1f_answer` once you've selected a choice."
   ]
  },
  {
   "cell_type": "code",
   "execution_count": 14,
   "metadata": {
    "deletable": false,
    "nbgrader": {
     "cell_type": "code",
     "checksum": "4fd5362a0236cb4eb6832ba55b0d0848",
     "grade": false,
     "grade_id": "df_fewer_rows",
     "locked": false,
     "schema_version": 3,
     "solution": true
    }
   },
   "outputs": [],
   "source": [
    "# YOUR CODE HERE\n",
    "q1f_answer = 6"
   ]
  },
  {
   "cell_type": "code",
   "execution_count": 15,
   "metadata": {
    "deletable": false,
    "editable": false,
    "nbgrader": {
     "cell_type": "code",
     "checksum": "670eeba73453550aba23d7735f9d4685",
     "grade": true,
     "grade_id": "test_df_fewer_rows",
     "locked": true,
     "points": 0.25,
     "schema_version": 3,
     "solution": false
    }
   },
   "outputs": [],
   "source": [
    "# Tests for 1f\n",
    "\n",
    "assert isinstance(q1f_answer, int)\n"
   ]
  },
  {
   "cell_type": "markdown",
   "metadata": {
    "deletable": false,
    "editable": false,
    "nbgrader": {
     "cell_type": "markdown",
     "checksum": "ff1aa69e6295da6c6d6bc98110326d1a",
     "grade": false,
     "grade_id": "part2",
     "locked": true,
     "schema_version": 3,
     "solution": false
    }
   },
   "source": [
    "## Part 2 - Data Cleaning\n",
    "\n",
    "Before proceeding with analysis, we need to check our data for missing values.\n",
    "\n",
    "There are many reasons data might contain missing values. Here are two common ones:\n",
    "\n",
    "- **Nonresponse.** For example, people might have left a field blank when responding to a survey, or left the entire survey blank.\n",
    "- **Lost in entry.** Data might have been lost after initial recording. For example, a disk cleanup might accidentally wipe older entries of a database.\n",
    "\n",
    "In general, it is **not** appropriate to simply drop missing values from the dataset or pretend that if filled in they would not change your results. In 2016, many polls mistakenly predicted that Hillary Clinton would easily win the Presidential election by committing this error.\n",
    "\n",
    "In this particular dataset, however, the **missing values occur completely at random**. This criteria allows us to drop missing values without significantly affecting our conclusions."
   ]
  },
  {
   "cell_type": "markdown",
   "metadata": {
    "deletable": false,
    "editable": false,
    "nbgrader": {
     "cell_type": "markdown",
     "checksum": "8c5d6dd823cfe8ed09fd6c5fd359756c",
     "grade": false,
     "grade_id": "cell-b343173f5b8686ba",
     "locked": true,
     "schema_version": 3,
     "solution": false
    }
   },
   "source": [
    "**Question 2a:** How many values are missing in the `income` column of `df`? Save this number into a variable called `n_nan`."
   ]
  },
  {
   "cell_type": "code",
   "execution_count": 16,
   "metadata": {
    "deletable": false,
    "nbgrader": {
     "cell_type": "code",
     "checksum": "862eb2d421538f9715139f5f14f41d31",
     "grade": false,
     "grade_id": "check_n_nan",
     "locked": false,
     "schema_version": 3,
     "solution": true
    }
   },
   "outputs": [
    {
     "data": {
      "text/plain": [
       "430"
      ]
     },
     "execution_count": 16,
     "metadata": {},
     "output_type": "execute_result"
    }
   ],
   "source": [
    "# YOUR CODE HERE\n",
    "n_nan = sum(df['income'].isnull())\n",
    "\n",
    "n_nan"
   ]
  },
  {
   "cell_type": "code",
   "execution_count": 17,
   "metadata": {
    "deletable": false,
    "editable": false,
    "nbgrader": {
     "cell_type": "code",
     "checksum": "999527e58f2d367f39dde83c5272ad9c",
     "grade": true,
     "grade_id": "test_check_n_nan",
     "locked": true,
     "points": 0.25,
     "schema_version": 3,
     "solution": false
    }
   },
   "outputs": [],
   "source": [
    "# Tests for 2a\n",
    "\n",
    "assert(n_nan)\n"
   ]
  },
  {
   "cell_type": "markdown",
   "metadata": {
    "deletable": false,
    "editable": false,
    "nbgrader": {
     "cell_type": "markdown",
     "checksum": "aef95cc8895baf28951a0f6cb3fdc62a",
     "grade": false,
     "grade_id": "cell-e81949ee49bed7aa",
     "locked": true,
     "schema_version": 3,
     "solution": false
    }
   },
   "source": [
    "**Question 2b:** Remove all rows from `df` that have missing values."
   ]
  },
  {
   "cell_type": "code",
   "execution_count": 18,
   "metadata": {
    "deletable": false,
    "nbgrader": {
     "cell_type": "code",
     "checksum": "46b717ac26f7586d6d1262fea5f768db",
     "grade": false,
     "grade_id": "rm_nans",
     "locked": false,
     "schema_version": 3,
     "solution": true
    }
   },
   "outputs": [
    {
     "data": {
      "text/html": [
       "<div>\n",
       "<style scoped>\n",
       "    .dataframe tbody tr th:only-of-type {\n",
       "        vertical-align: middle;\n",
       "    }\n",
       "\n",
       "    .dataframe tbody tr th {\n",
       "        vertical-align: top;\n",
       "    }\n",
       "\n",
       "    .dataframe thead th {\n",
       "        text-align: right;\n",
       "    }\n",
       "</style>\n",
       "<table border=\"1\" class=\"dataframe\">\n",
       "  <thead>\n",
       "    <tr style=\"text-align: right;\">\n",
       "      <th></th>\n",
       "      <th>id</th>\n",
       "      <th>age</th>\n",
       "      <th>steps</th>\n",
       "      <th>income</th>\n",
       "    </tr>\n",
       "  </thead>\n",
       "  <tbody>\n",
       "    <tr>\n",
       "      <th>0</th>\n",
       "      <td>36859</td>\n",
       "      <td>48</td>\n",
       "      <td>6764</td>\n",
       "      <td>10056.43</td>\n",
       "    </tr>\n",
       "    <tr>\n",
       "      <th>1</th>\n",
       "      <td>99794</td>\n",
       "      <td>39</td>\n",
       "      <td>4308</td>\n",
       "      <td>13869.47</td>\n",
       "    </tr>\n",
       "    <tr>\n",
       "      <th>2</th>\n",
       "      <td>33364</td>\n",
       "      <td>36</td>\n",
       "      <td>6410</td>\n",
       "      <td>79634.92</td>\n",
       "    </tr>\n",
       "    <tr>\n",
       "      <th>...</th>\n",
       "      <td>...</td>\n",
       "      <td>...</td>\n",
       "      <td>...</td>\n",
       "      <td>...</td>\n",
       "    </tr>\n",
       "    <tr>\n",
       "      <th>9620</th>\n",
       "      <td>42474</td>\n",
       "      <td>28</td>\n",
       "      <td>7307</td>\n",
       "      <td>49128.60</td>\n",
       "    </tr>\n",
       "    <tr>\n",
       "      <th>9621</th>\n",
       "      <td>52336</td>\n",
       "      <td>41</td>\n",
       "      <td>-1</td>\n",
       "      <td>0.00</td>\n",
       "    </tr>\n",
       "    <tr>\n",
       "      <th>9622</th>\n",
       "      <td>17411</td>\n",
       "      <td>43</td>\n",
       "      <td>8765</td>\n",
       "      <td>88965.55</td>\n",
       "    </tr>\n",
       "  </tbody>\n",
       "</table>\n",
       "<p>9193 rows × 4 columns</p>\n",
       "</div>"
      ],
      "text/plain": [
       "         id  age  steps    income\n",
       "0     36859   48   6764  10056.43\n",
       "1     99794   39   4308  13869.47\n",
       "2     33364   36   6410  79634.92\n",
       "...     ...  ...    ...       ...\n",
       "9620  42474   28   7307  49128.60\n",
       "9621  52336   41     -1      0.00\n",
       "9622  17411   43   8765  88965.55\n",
       "\n",
       "[9193 rows x 4 columns]"
      ]
     },
     "execution_count": 18,
     "metadata": {},
     "output_type": "execute_result"
    }
   ],
   "source": [
    "# Remove all rows from df that have missing data. In other words, remove all rows with NaN values.\n",
    "\n",
    "# YOUR CODE HERE\n",
    "df = df.dropna()\n",
    "df\n"
   ]
  },
  {
   "cell_type": "code",
   "execution_count": 19,
   "metadata": {
    "deletable": false,
    "editable": false,
    "nbgrader": {
     "cell_type": "code",
     "checksum": "d502e1027efbed2d81fa1fc6db37a256",
     "grade": true,
     "grade_id": "test_rm_nans",
     "locked": true,
     "points": 0.25,
     "schema_version": 3,
     "solution": false
    }
   },
   "outputs": [],
   "source": [
    "# Tests for 2b\n",
    "\n",
    "assert sum(np.isnan(df['income'])) == 0\n",
    "assert df.shape == (9193, 4)\n"
   ]
  },
  {
   "cell_type": "markdown",
   "metadata": {
    "deletable": false,
    "editable": false,
    "nbgrader": {
     "cell_type": "markdown",
     "checksum": "c5b50401498736a4d7928b9f98c455ea",
     "grade": false,
     "grade_id": "cell-4c6b5c67cd60c837",
     "locked": true,
     "schema_version": 3,
     "solution": false
    }
   },
   "source": [
    "**Question 2c:** Note that we can now compute the average income. If your `df` variable contains the right values, `df['income'].mean()` should produce the value `25563.54`.\n",
    "\n",
    "Suppose that we didn't drop the missing incomes. What will running `df['income'].mean()` output? Use the variable `q2c_answer` to record which of the below statements you think is true. As usual, you can use the cell below to run any code you'd like in order to help you answer this question as long as you set `q2c_answer` once you've finished.\n",
    "\n",
    "1. `df['income'].mean()` will produce an error.\n",
    "2. `df['income'].mean()` will output `0`.\n",
    "3. `df['income'].mean()` will output `nan` (not a number).\n",
    "4. No change; `df['income'].mean()` will ignore the missing values and output `25563.54`.\n",
    "5. `df['income'].mean()` will fill in the missing values with the average income, then compute the average.\n",
    "6. `df['income'].mean()` will fill in the missing values with `0`, then compute the average."
   ]
  },
  {
   "cell_type": "code",
   "execution_count": 20,
   "metadata": {
    "deletable": false,
    "nbgrader": {
     "cell_type": "code",
     "checksum": "6d375b8a73432a02b337ce04376f94e5",
     "grade": false,
     "grade_id": "mean_income",
     "locked": false,
     "schema_version": 3,
     "solution": true
    }
   },
   "outputs": [],
   "source": [
    "# YOUR CODE HERE\n",
    "\n",
    "q2c_answer = 3"
   ]
  },
  {
   "cell_type": "code",
   "execution_count": 21,
   "metadata": {
    "deletable": false,
    "editable": false,
    "nbgrader": {
     "cell_type": "code",
     "checksum": "6d14e017453ad9ae1b60abc6e64e4f52",
     "grade": true,
     "grade_id": "test_mean_income",
     "locked": true,
     "points": 0.25,
     "schema_version": 3,
     "solution": false
    }
   },
   "outputs": [],
   "source": [
    "# Tests for 2c\n",
    "\n",
    "assert isinstance(q2c_answer, int)\n"
   ]
  },
  {
   "cell_type": "markdown",
   "metadata": {
    "deletable": false,
    "editable": false,
    "nbgrader": {
     "cell_type": "markdown",
     "checksum": "98c51a8413b5a3fce487f53ab7c0c7f7",
     "grade": false,
     "grade_id": "cell-1a7dd25f17ac69a8",
     "locked": true,
     "schema_version": 3,
     "solution": false
    }
   },
   "source": [
    "**Question 2d:** Suppose that missing incomes did not occur at random, and that individuals with incomes below \\$10000 a year are less likely to report their incomes. If so, one of the statements is true. Record your choice in the variable `q2d_answer`.\n",
    "\n",
    "1. `df['income'].mean()` will likely output a value that is smaller than the population's average income.\n",
    "2. `df['income'].mean()` will likely output a value that is larger than the population's average income.\n",
    "3. `df['income'].mean()` will likely output a value that is the same as the population's average income\n",
    "4. `df['income'].mean()` will raise an error."
   ]
  },
  {
   "cell_type": "code",
   "execution_count": 22,
   "metadata": {
    "deletable": false,
    "nbgrader": {
     "cell_type": "code",
     "checksum": "6aef9b3a3df384550102804bc381e65d",
     "grade": false,
     "grade_id": "income_biased",
     "locked": false,
     "schema_version": 3,
     "solution": true
    }
   },
   "outputs": [],
   "source": [
    "# YOUR CODE HERE\n",
    "q2d_answer = 3"
   ]
  },
  {
   "cell_type": "code",
   "execution_count": 23,
   "metadata": {
    "deletable": false,
    "editable": false,
    "nbgrader": {
     "cell_type": "code",
     "checksum": "4dcc27d450740baae99cf2440175a92f",
     "grade": true,
     "grade_id": "test_income_biased",
     "locked": true,
     "points": 0.25,
     "schema_version": 3,
     "solution": false
    }
   },
   "outputs": [],
   "source": [
    "# Tests for 2d\n",
    "\n",
    "assert isinstance(q2d_answer, int)\n"
   ]
  },
  {
   "cell_type": "markdown",
   "metadata": {
    "deletable": false,
    "editable": false,
    "nbgrader": {
     "cell_type": "markdown",
     "checksum": "ca3fb5e21c63b6c270043c8218039d8d",
     "grade": false,
     "grade_id": "cell-5d01b1034d49203e",
     "locked": true,
     "schema_version": 3,
     "solution": false
    }
   },
   "source": [
    "## Part 3: Data Visualization\n",
    "\n",
    "Although `pandas` only displays a few rows of a DataFrame at a time, we can use data visualizations to quickly determine the **distributions** of values within our data.\n",
    "\n",
    "`pandas` comes with some plotting capabilities built-in. We suggest taking a look at https://pandas.pydata.org/pandas-docs/stable/visualization.html for examples. Here's one example:\n",
    "\n",
    "Most plotting libraries in Python are built on top of a library called [`matplotlib`](https://matplotlib.org/), including the plotting methods used in `pandas`. Although you won't need to know `matplotlib` for this assignment, you will likely have to use it in future assignments and your final project, so keep the library in mind.\n",
    "\n",
    "Notes:\n",
    "\n",
    "- Everywhere that we ask you to create a plot, make sure to leave the `plt.gcf()` line at the end of the cell. Otherwise, you will lose points in the autograder.\n",
    "- For all your histograms, use **25 bins**."
   ]
  },
  {
   "cell_type": "markdown",
   "metadata": {},
   "source": [
    "**Question 3a:** Plot a histogram of the `age` column with 25 bins."
   ]
  },
  {
   "cell_type": "code",
   "execution_count": 24,
   "metadata": {
    "deletable": false,
    "nbgrader": {
     "cell_type": "code",
     "checksum": "bb8fce6ef3babf1b49fa631893b60c34",
     "grade": false,
     "grade_id": "hist_age",
     "locked": false,
     "schema_version": 3,
     "solution": true
    }
   },
   "outputs": [
    {
     "data": {
      "image/png": "[encoded data removed]",
      "text/plain": [
       "<Figure size 432x288 with 1 Axes>"
      ]
     },
     "metadata": {},
     "output_type": "display_data"
    }
   ],
   "source": [
    "# YOUR CODE HERE\n",
    "plt.ylabel('frequency')\n",
    "plt.xlabel('age')\n",
    "\n",
    "\n",
    "plt.hist(df['age'], bins =25)\n",
    "\n",
    "f1 = plt.gcf()"
   ]
  },
  {
   "cell_type": "code",
   "execution_count": 25,
   "metadata": {
    "deletable": false,
    "editable": false,
    "nbgrader": {
     "cell_type": "code",
     "checksum": "ff430251c4a33b0f669098e0aab1a199",
     "grade": true,
     "grade_id": "test_hist_age",
     "locked": true,
     "points": 0.25,
     "schema_version": 3,
     "solution": false
    }
   },
   "outputs": [],
   "source": [
    "# Tests for 3a\n",
    "\n",
    "assert f1.gca().has_data()\n",
    "\n",
    "# If you fail this test, you didn't use 25 bins for your histogram.\n",
    "assert len(f1.gca().patches) == 25"
   ]
  },
  {
   "cell_type": "markdown",
   "metadata": {},
   "source": [
    "**Question 3b:** Plot a histogram of the `steps` column with 25 bins."
   ]
  },
  {
   "cell_type": "code",
   "execution_count": 26,
   "metadata": {
    "deletable": false,
    "nbgrader": {
     "cell_type": "code",
     "checksum": "82614a5e31cef9725cb064de570fd629",
     "grade": false,
     "grade_id": "hist_steps",
     "locked": false,
     "schema_version": 3,
     "solution": true
    }
   },
   "outputs": [
    {
     "data": {
      "image/png": "[encoded data removed]",
      "text/plain": [
       "<Figure size 432x288 with 1 Axes>"
      ]
     },
     "metadata": {},
     "output_type": "display_data"
    }
   ],
   "source": [
    "# YOUR CODE HERE\n",
    "plt.ylabel('frequency')\n",
    "plt.xlabel('steps')\n",
    "\n",
    "\n",
    "plt.hist(df['steps'], bins =25)\n",
    "\n",
    "\n",
    "f2 = plt.gcf()"
   ]
  },
  {
   "cell_type": "code",
   "execution_count": 27,
   "metadata": {
    "deletable": false,
    "editable": false,
    "nbgrader": {
     "cell_type": "code",
     "checksum": "9a31a432cbac65bb2c536e1c9561843d",
     "grade": true,
     "grade_id": "test_hist_steps",
     "locked": true,
     "points": 0.25,
     "schema_version": 3,
     "solution": false
    }
   },
   "outputs": [],
   "source": [
    "# Tests for 3b\n",
    "\n",
    "assert f2.gca().has_data()"
   ]
  },
  {
   "cell_type": "markdown",
   "metadata": {},
   "source": [
    "**Question 3c:** Plot a histogram of the `income` column with 25 bins."
   ]
  },
  {
   "cell_type": "code",
   "execution_count": 28,
   "metadata": {
    "deletable": false,
    "nbgrader": {
     "cell_type": "code",
     "checksum": "bc6a5447b3944f6c8336170c3a490fbb",
     "grade": false,
     "grade_id": "hist_income",
     "locked": false,
     "schema_version": 3,
     "solution": true
    }
   },
   "outputs": [
    {
     "data": {
      "image/png": "[encoded data removed]",
      "text/plain": [
       "<Figure size 432x288 with 1 Axes>"
      ]
     },
     "metadata": {},
     "output_type": "display_data"
    }
   ],
   "source": [
    "# YOUR CODE HERE\n",
    "plt.ylabel('frequency')\n",
    "plt.xlabel('income')\n",
    "\n",
    "\n",
    "plt.hist(df['income'], bins =25)\n",
    "\n",
    "\n",
    "f3 = plt.gcf()"
   ]
  },
  {
   "cell_type": "code",
   "execution_count": 29,
   "metadata": {
    "deletable": false,
    "editable": false,
    "nbgrader": {
     "cell_type": "code",
     "checksum": "23bbd29aea96442ff7eac5d9a940525f",
     "grade": true,
     "grade_id": "test_hist_income",
     "locked": true,
     "points": 0.25,
     "schema_version": 3,
     "solution": false
    }
   },
   "outputs": [],
   "source": [
    "# Tests for 3c\n",
    "\n",
    "assert f3.gca().has_data()"
   ]
  },
  {
   "cell_type": "markdown",
   "metadata": {},
   "source": [
    "**Question 3d:** Plot the data using the `pandas` `scatter_matrix` function. Only plot the `age`, `steps`, and `income` columns."
   ]
  },
  {
   "cell_type": "code",
   "execution_count": 30,
   "metadata": {
    "deletable": false,
    "nbgrader": {
     "cell_type": "code",
     "checksum": "e25abbd23ffad500ef88f73ca3e87925",
     "grade": false,
     "grade_id": "scatter_matrix",
     "locked": false,
     "schema_version": 3,
     "solution": true
    }
   },
   "outputs": [
    {
     "data": {
      "image/png": "[encoded data removed]",
      "text/plain": [
       "<Figure size 432x288 with 9 Axes>"
      ]
     },
     "metadata": {},
     "output_type": "display_data"
    }
   ],
   "source": [
    "# YOUR CODE HERE\n",
    "pd.plotting.scatter_matrix(df[['age', 'steps', 'income']])\n",
    "\n",
    "f4 = plt.gcf()"
   ]
  },
  {
   "cell_type": "code",
   "execution_count": 31,
   "metadata": {
    "deletable": false,
    "editable": false,
    "nbgrader": {
     "cell_type": "code",
     "checksum": "0cd0926f3e82eb46a21d35c2a708fb02",
     "grade": true,
     "grade_id": "test_scatter_matrix",
     "locked": true,
     "points": 0.25,
     "schema_version": 3,
     "solution": false
    }
   },
   "outputs": [],
   "source": [
    "# Tests for 3d\n",
    "\n",
    "assert f4.gca().has_data()"
   ]
  },
  {
   "cell_type": "markdown",
   "metadata": {},
   "source": [
    "## Part 4: Data Pre-Processing\n",
    "\n",
    "In the above sections, we performed basic data cleaning and visualization. \n",
    "\n",
    "In practice, these two components of an analysis pipeline are often combined into an iterative approach. We go back and forth between looking at the data, checking for issues, and cleaning the data. \n",
    "\n",
    "Let's continue with an iterative procedure of data cleaning and visualization, addressing some issues that we notice after visualizing the data."
   ]
  },
  {
   "cell_type": "markdown",
   "metadata": {},
   "source": [
    "**Question 4a:** In the visualization of the `steps` column, we notice a large number of `-1` values. Count how many rows in `df` have `-1` in their `steps` column. Store the result in the variable `n_neg`."
   ]
  },
  {
   "cell_type": "code",
   "execution_count": 32,
   "metadata": {
    "deletable": false,
    "nbgrader": {
     "cell_type": "code",
     "checksum": "3300cadc31ddc567614642d0d0b117c8",
     "grade": false,
     "grade_id": "check_n_neg",
     "locked": false,
     "schema_version": 3,
     "solution": true
    }
   },
   "outputs": [
    {
     "data": {
      "text/plain": [
       "1014"
      ]
     },
     "execution_count": 32,
     "metadata": {},
     "output_type": "execute_result"
    }
   ],
   "source": [
    "# YOUR CODE HERE\n",
    "\n",
    "n_neg = len(df[df['steps'] == -1])\n",
    "n_neg"
   ]
  },
  {
   "cell_type": "code",
   "execution_count": 33,
   "metadata": {
    "deletable": false,
    "editable": false,
    "nbgrader": {
     "cell_type": "code",
     "checksum": "4f159bada6fb2d83ed8069c2770dfca3",
     "grade": true,
     "grade_id": "test_check_n_neg",
     "locked": true,
     "points": 0.25,
     "schema_version": 3,
     "solution": false
    }
   },
   "outputs": [],
   "source": [
    "# Tests for 4a\n",
    "\n",
    "assert(n_neg)\n",
    "assert n_neg > 100\n"
   ]
  },
  {
   "cell_type": "markdown",
   "metadata": {},
   "source": [
    "**Question 4b:** Since it's impossible to walk a negative number of steps, we will treat the negative values as missing data. Drop the rows with negative steps from `df`. Your answer should modify `df` itself."
   ]
  },
  {
   "cell_type": "code",
   "execution_count": 34,
   "metadata": {
    "deletable": false,
    "nbgrader": {
     "cell_type": "code",
     "checksum": "738d66e0aa86ca0ddcfcd55898d0ea59",
     "grade": false,
     "grade_id": "rm_neg",
     "locked": false,
     "schema_version": 3,
     "solution": true
    }
   },
   "outputs": [
    {
     "data": {
      "text/html": [
       "<div>\n",
       "<style scoped>\n",
       "    .dataframe tbody tr th:only-of-type {\n",
       "        vertical-align: middle;\n",
       "    }\n",
       "\n",
       "    .dataframe tbody tr th {\n",
       "        vertical-align: top;\n",
       "    }\n",
       "\n",
       "    .dataframe thead th {\n",
       "        text-align: right;\n",
       "    }\n",
       "</style>\n",
       "<table border=\"1\" class=\"dataframe\">\n",
       "  <thead>\n",
       "    <tr style=\"text-align: right;\">\n",
       "      <th></th>\n",
       "      <th>id</th>\n",
       "      <th>age</th>\n",
       "      <th>steps</th>\n",
       "      <th>income</th>\n",
       "    </tr>\n",
       "  </thead>\n",
       "  <tbody>\n",
       "    <tr>\n",
       "      <th>0</th>\n",
       "      <td>36859</td>\n",
       "      <td>48</td>\n",
       "      <td>6764</td>\n",
       "      <td>10056.43</td>\n",
       "    </tr>\n",
       "    <tr>\n",
       "      <th>1</th>\n",
       "      <td>99794</td>\n",
       "      <td>39</td>\n",
       "      <td>4308</td>\n",
       "      <td>13869.47</td>\n",
       "    </tr>\n",
       "    <tr>\n",
       "      <th>2</th>\n",
       "      <td>33364</td>\n",
       "      <td>36</td>\n",
       "      <td>6410</td>\n",
       "      <td>79634.92</td>\n",
       "    </tr>\n",
       "    <tr>\n",
       "      <th>...</th>\n",
       "      <td>...</td>\n",
       "      <td>...</td>\n",
       "      <td>...</td>\n",
       "      <td>...</td>\n",
       "    </tr>\n",
       "    <tr>\n",
       "      <th>9619</th>\n",
       "      <td>42776</td>\n",
       "      <td>42</td>\n",
       "      <td>8372</td>\n",
       "      <td>10696.63</td>\n",
       "    </tr>\n",
       "    <tr>\n",
       "      <th>9620</th>\n",
       "      <td>42474</td>\n",
       "      <td>28</td>\n",
       "      <td>7307</td>\n",
       "      <td>49128.60</td>\n",
       "    </tr>\n",
       "    <tr>\n",
       "      <th>9622</th>\n",
       "      <td>17411</td>\n",
       "      <td>43</td>\n",
       "      <td>8765</td>\n",
       "      <td>88965.55</td>\n",
       "    </tr>\n",
       "  </tbody>\n",
       "</table>\n",
       "<p>8179 rows × 4 columns</p>\n",
       "</div>"
      ],
      "text/plain": [
       "         id  age  steps    income\n",
       "0     36859   48   6764  10056.43\n",
       "1     99794   39   4308  13869.47\n",
       "2     33364   36   6410  79634.92\n",
       "...     ...  ...    ...       ...\n",
       "9619  42776   42   8372  10696.63\n",
       "9620  42474   28   7307  49128.60\n",
       "9622  17411   43   8765  88965.55\n",
       "\n",
       "[8179 rows x 4 columns]"
      ]
     },
     "execution_count": 34,
     "metadata": {},
     "output_type": "execute_result"
    }
   ],
   "source": [
    "# YOUR CODE HERE\n",
    "modified_df = df[df['steps'] == -1].index\n",
    "df = df.drop(modified_df)\n",
    "df"
   ]
  },
  {
   "cell_type": "code",
   "execution_count": 35,
   "metadata": {
    "deletable": false,
    "editable": false,
    "nbgrader": {
     "cell_type": "code",
     "checksum": "574382e27cbcfca07517c1643a35f297",
     "grade": true,
     "grade_id": "test_rm_neg",
     "locked": true,
     "points": 0.25,
     "schema_version": 3,
     "solution": false
    }
   },
   "outputs": [],
   "source": [
    "# Tests for 4b\n",
    "\n",
    "assert sum(df['steps'] == -1) == 0\n"
   ]
  },
  {
   "cell_type": "markdown",
   "metadata": {
    "deletable": false,
    "editable": false,
    "nbgrader": {
     "cell_type": "markdown",
     "checksum": "10c1b8bb25419014f6bcf4586679c98c",
     "grade": false,
     "grade_id": "cell-0c78f9d038aa372b",
     "locked": true,
     "schema_version": 3,
     "solution": false
    }
   },
   "source": [
    "You may have noticed that the values in `income` are not normally distributed which can hurt prediction ability in some scenarios. To address this, we will perform a log transformation on the `income` values.\n",
    "\n",
    "First though, we will have to deal with any income values that are 0. Note that these values are not impossible values — they may, for example, represent people who are unemployed. \n",
    "\n",
    "**Question 4c:** Add a new column to `df` called `income10`. It should contain the same values as `income` with all `0` values replaced with `1`."
   ]
  },
  {
   "cell_type": "code",
   "execution_count": 36,
   "metadata": {
    "deletable": false,
    "nbgrader": {
     "cell_type": "code",
     "checksum": "96f66286cdd706136bfa2aefb2f25e28",
     "grade": false,
     "grade_id": "recoded_zero",
     "locked": false,
     "schema_version": 3,
     "solution": true
    }
   },
   "outputs": [
    {
     "data": {
      "text/html": [
       "<div>\n",
       "<style scoped>\n",
       "    .dataframe tbody tr th:only-of-type {\n",
       "        vertical-align: middle;\n",
       "    }\n",
       "\n",
       "    .dataframe tbody tr th {\n",
       "        vertical-align: top;\n",
       "    }\n",
       "\n",
       "    .dataframe thead th {\n",
       "        text-align: right;\n",
       "    }\n",
       "</style>\n",
       "<table border=\"1\" class=\"dataframe\">\n",
       "  <thead>\n",
       "    <tr style=\"text-align: right;\">\n",
       "      <th></th>\n",
       "      <th>id</th>\n",
       "      <th>age</th>\n",
       "      <th>steps</th>\n",
       "      <th>income</th>\n",
       "      <th>income10</th>\n",
       "    </tr>\n",
       "  </thead>\n",
       "  <tbody>\n",
       "    <tr>\n",
       "      <th>0</th>\n",
       "      <td>36859</td>\n",
       "      <td>48</td>\n",
       "      <td>6764</td>\n",
       "      <td>10056.43</td>\n",
       "      <td>10056.43</td>\n",
       "    </tr>\n",
       "    <tr>\n",
       "      <th>1</th>\n",
       "      <td>99794</td>\n",
       "      <td>39</td>\n",
       "      <td>4308</td>\n",
       "      <td>13869.47</td>\n",
       "      <td>13869.47</td>\n",
       "    </tr>\n",
       "    <tr>\n",
       "      <th>2</th>\n",
       "      <td>33364</td>\n",
       "      <td>36</td>\n",
       "      <td>6410</td>\n",
       "      <td>79634.92</td>\n",
       "      <td>79634.92</td>\n",
       "    </tr>\n",
       "    <tr>\n",
       "      <th>...</th>\n",
       "      <td>...</td>\n",
       "      <td>...</td>\n",
       "      <td>...</td>\n",
       "      <td>...</td>\n",
       "      <td>...</td>\n",
       "    </tr>\n",
       "    <tr>\n",
       "      <th>9619</th>\n",
       "      <td>42776</td>\n",
       "      <td>42</td>\n",
       "      <td>8372</td>\n",
       "      <td>10696.63</td>\n",
       "      <td>10696.63</td>\n",
       "    </tr>\n",
       "    <tr>\n",
       "      <th>9620</th>\n",
       "      <td>42474</td>\n",
       "      <td>28</td>\n",
       "      <td>7307</td>\n",
       "      <td>49128.60</td>\n",
       "      <td>49128.60</td>\n",
       "    </tr>\n",
       "    <tr>\n",
       "      <th>9622</th>\n",
       "      <td>17411</td>\n",
       "      <td>43</td>\n",
       "      <td>8765</td>\n",
       "      <td>88965.55</td>\n",
       "      <td>88965.55</td>\n",
       "    </tr>\n",
       "  </tbody>\n",
       "</table>\n",
       "<p>8179 rows × 5 columns</p>\n",
       "</div>"
      ],
      "text/plain": [
       "         id  age  steps    income  income10\n",
       "0     36859   48   6764  10056.43  10056.43\n",
       "1     99794   39   4308  13869.47  13869.47\n",
       "2     33364   36   6410  79634.92  79634.92\n",
       "...     ...  ...    ...       ...       ...\n",
       "9619  42776   42   8372  10696.63  10696.63\n",
       "9620  42474   28   7307  49128.60  49128.60\n",
       "9622  17411   43   8765  88965.55  88965.55\n",
       "\n",
       "[8179 rows x 5 columns]"
      ]
     },
     "execution_count": 36,
     "metadata": {},
     "output_type": "execute_result"
    }
   ],
   "source": [
    "# YOUR CODE HERE\n",
    "df['income10'] = df.replace(to_replace = 0, value = 1)['income']\n",
    "\n",
    "df"
   ]
  },
  {
   "cell_type": "code",
   "execution_count": 37,
   "metadata": {
    "deletable": false,
    "editable": false,
    "nbgrader": {
     "cell_type": "code",
     "checksum": "1a826065066044365d0fc62fc0683198",
     "grade": true,
     "grade_id": "test_recoded_zero",
     "locked": true,
     "points": 0.25,
     "schema_version": 3,
     "solution": false
    }
   },
   "outputs": [],
   "source": [
    "# Tests for 4c\n",
    "\n",
    "assert list(df.columns) == ['id', 'age', 'steps', 'income', 'income10']\n",
    "assert not any(df['income10'] == 0)\n"
   ]
  },
  {
   "cell_type": "markdown",
   "metadata": {},
   "source": [
    "**Question 4d:** Now, transform the `income10` column using a log-base-10 transform. That is, replace each value in `income10` with the $ log_{10} $ of that value."
   ]
  },
  {
   "cell_type": "code",
   "execution_count": 38,
   "metadata": {
    "deletable": false,
    "nbgrader": {
     "cell_type": "code",
     "checksum": "79276aead1a0ef93947ceb8284fc563e",
     "grade": false,
     "grade_id": "log",
     "locked": false,
     "schema_version": 3,
     "solution": true
    }
   },
   "outputs": [
    {
     "data": {
      "text/html": [
       "<div>\n",
       "<style scoped>\n",
       "    .dataframe tbody tr th:only-of-type {\n",
       "        vertical-align: middle;\n",
       "    }\n",
       "\n",
       "    .dataframe tbody tr th {\n",
       "        vertical-align: top;\n",
       "    }\n",
       "\n",
       "    .dataframe thead th {\n",
       "        text-align: right;\n",
       "    }\n",
       "</style>\n",
       "<table border=\"1\" class=\"dataframe\">\n",
       "  <thead>\n",
       "    <tr style=\"text-align: right;\">\n",
       "      <th></th>\n",
       "      <th>id</th>\n",
       "      <th>age</th>\n",
       "      <th>steps</th>\n",
       "      <th>income</th>\n",
       "      <th>income10</th>\n",
       "    </tr>\n",
       "  </thead>\n",
       "  <tbody>\n",
       "    <tr>\n",
       "      <th>0</th>\n",
       "      <td>36859</td>\n",
       "      <td>48</td>\n",
       "      <td>6764</td>\n",
       "      <td>10056.43</td>\n",
       "      <td>4.00</td>\n",
       "    </tr>\n",
       "    <tr>\n",
       "      <th>1</th>\n",
       "      <td>99794</td>\n",
       "      <td>39</td>\n",
       "      <td>4308</td>\n",
       "      <td>13869.47</td>\n",
       "      <td>4.14</td>\n",
       "    </tr>\n",
       "    <tr>\n",
       "      <th>2</th>\n",
       "      <td>33364</td>\n",
       "      <td>36</td>\n",
       "      <td>6410</td>\n",
       "      <td>79634.92</td>\n",
       "      <td>4.90</td>\n",
       "    </tr>\n",
       "    <tr>\n",
       "      <th>...</th>\n",
       "      <td>...</td>\n",
       "      <td>...</td>\n",
       "      <td>...</td>\n",
       "      <td>...</td>\n",
       "      <td>...</td>\n",
       "    </tr>\n",
       "    <tr>\n",
       "      <th>9619</th>\n",
       "      <td>42776</td>\n",
       "      <td>42</td>\n",
       "      <td>8372</td>\n",
       "      <td>10696.63</td>\n",
       "      <td>4.03</td>\n",
       "    </tr>\n",
       "    <tr>\n",
       "      <th>9620</th>\n",
       "      <td>42474</td>\n",
       "      <td>28</td>\n",
       "      <td>7307</td>\n",
       "      <td>49128.60</td>\n",
       "      <td>4.69</td>\n",
       "    </tr>\n",
       "    <tr>\n",
       "      <th>9622</th>\n",
       "      <td>17411</td>\n",
       "      <td>43</td>\n",
       "      <td>8765</td>\n",
       "      <td>88965.55</td>\n",
       "      <td>4.95</td>\n",
       "    </tr>\n",
       "  </tbody>\n",
       "</table>\n",
       "<p>8179 rows × 5 columns</p>\n",
       "</div>"
      ],
      "text/plain": [
       "         id  age  steps    income  income10\n",
       "0     36859   48   6764  10056.43      4.00\n",
       "1     99794   39   4308  13869.47      4.14\n",
       "2     33364   36   6410  79634.92      4.90\n",
       "...     ...  ...    ...       ...       ...\n",
       "9619  42776   42   8372  10696.63      4.03\n",
       "9620  42474   28   7307  49128.60      4.69\n",
       "9622  17411   43   8765  88965.55      4.95\n",
       "\n",
       "[8179 rows x 5 columns]"
      ]
     },
     "execution_count": 38,
     "metadata": {},
     "output_type": "execute_result"
    }
   ],
   "source": [
    "# YOUR CODE HERE\n",
    "\n",
    "df['income10'] = np.log10(df['income10'])\n",
    "df"
   ]
  },
  {
   "cell_type": "code",
   "execution_count": 39,
   "metadata": {
    "deletable": false,
    "editable": false,
    "nbgrader": {
     "cell_type": "code",
     "checksum": "7a26314869b67405985d662e1b919cba",
     "grade": true,
     "grade_id": "test_log",
     "locked": true,
     "points": 0.25,
     "schema_version": 3,
     "solution": false
    }
   },
   "outputs": [],
   "source": [
    "# Tests for 4d\n",
    "\n",
    "assert np.isclose(min(df['income10']), 0.0, 0.001)\n",
    "assert np.isclose(max(df['income10']), 5.867, 0.001)"
   ]
  },
  {
   "cell_type": "markdown",
   "metadata": {},
   "source": [
    "**Question 4e:** Now, make a histogram for `income10` data after the data transformation. Again, use 25 bins."
   ]
  },
  {
   "cell_type": "code",
   "execution_count": 40,
   "metadata": {
    "deletable": false,
    "nbgrader": {
     "cell_type": "code",
     "checksum": "25dfdf6faff59ba17d9a48c1bd37cdf7",
     "grade": false,
     "grade_id": "replot_log",
     "locked": false,
     "schema_version": 3,
     "solution": true
    }
   },
   "outputs": [
    {
     "data": {
      "image/png": "[encoded data removed]",
      "text/plain": [
       "<Figure size 432x288 with 1 Axes>"
      ]
     },
     "metadata": {},
     "output_type": "display_data"
    }
   ],
   "source": [
    "# YOUR CODE HERE\n",
    "plt.ylabel('frequency')\n",
    "plt.xlabel('income10')\n",
    "\n",
    "\n",
    "plt.hist(df['income10'], bins =25)\n",
    "\n",
    "f4 = plt.gcf()"
   ]
  },
  {
   "cell_type": "code",
   "execution_count": 41,
   "metadata": {
    "deletable": false,
    "editable": false,
    "nbgrader": {
     "cell_type": "code",
     "checksum": "ca07e51b4d99c92d7a6050f52380189a",
     "grade": true,
     "grade_id": "test_replot_hist",
     "locked": true,
     "points": 0.25,
     "schema_version": 3,
     "solution": false
    }
   },
   "outputs": [],
   "source": [
    "# Tests for 4e\n",
    "\n",
    "assert f4.gca().has_data()\n",
    "\n",
    "# If you fail this test, you didn't use 25 bins for your histogram.\n",
    "assert len(f4.gca().patches) == 25"
   ]
  },
  {
   "cell_type": "markdown",
   "metadata": {},
   "source": [
    "**Question 4f:** We might also have certain regulations or restrictions that we need to follow about the data. Here, we will only analyze adults. Remove all rows from `df` where age is less than 18."
   ]
  },
  {
   "cell_type": "code",
   "execution_count": 42,
   "metadata": {
    "deletable": false,
    "nbgrader": {
     "cell_type": "code",
     "checksum": "8b589bb70d291baf871ac583ac7778c5",
     "grade": false,
     "grade_id": "rm_young",
     "locked": false,
     "schema_version": 3,
     "solution": true
    }
   },
   "outputs": [
    {
     "data": {
      "text/html": [
       "<div>\n",
       "<style scoped>\n",
       "    .dataframe tbody tr th:only-of-type {\n",
       "        vertical-align: middle;\n",
       "    }\n",
       "\n",
       "    .dataframe tbody tr th {\n",
       "        vertical-align: top;\n",
       "    }\n",
       "\n",
       "    .dataframe thead th {\n",
       "        text-align: right;\n",
       "    }\n",
       "</style>\n",
       "<table border=\"1\" class=\"dataframe\">\n",
       "  <thead>\n",
       "    <tr style=\"text-align: right;\">\n",
       "      <th></th>\n",
       "      <th>id</th>\n",
       "      <th>age</th>\n",
       "      <th>steps</th>\n",
       "      <th>income</th>\n",
       "      <th>income10</th>\n",
       "    </tr>\n",
       "  </thead>\n",
       "  <tbody>\n",
       "    <tr>\n",
       "      <th>0</th>\n",
       "      <td>36859</td>\n",
       "      <td>48</td>\n",
       "      <td>6764</td>\n",
       "      <td>10056.43</td>\n",
       "      <td>4.00</td>\n",
       "    </tr>\n",
       "    <tr>\n",
       "      <th>1</th>\n",
       "      <td>99794</td>\n",
       "      <td>39</td>\n",
       "      <td>4308</td>\n",
       "      <td>13869.47</td>\n",
       "      <td>4.14</td>\n",
       "    </tr>\n",
       "    <tr>\n",
       "      <th>2</th>\n",
       "      <td>33364</td>\n",
       "      <td>36</td>\n",
       "      <td>6410</td>\n",
       "      <td>79634.92</td>\n",
       "      <td>4.90</td>\n",
       "    </tr>\n",
       "    <tr>\n",
       "      <th>...</th>\n",
       "      <td>...</td>\n",
       "      <td>...</td>\n",
       "      <td>...</td>\n",
       "      <td>...</td>\n",
       "      <td>...</td>\n",
       "    </tr>\n",
       "    <tr>\n",
       "      <th>9619</th>\n",
       "      <td>42776</td>\n",
       "      <td>42</td>\n",
       "      <td>8372</td>\n",
       "      <td>10696.63</td>\n",
       "      <td>4.03</td>\n",
       "    </tr>\n",
       "    <tr>\n",
       "      <th>9620</th>\n",
       "      <td>42474</td>\n",
       "      <td>28</td>\n",
       "      <td>7307</td>\n",
       "      <td>49128.60</td>\n",
       "      <td>4.69</td>\n",
       "    </tr>\n",
       "    <tr>\n",
       "      <th>9622</th>\n",
       "      <td>17411</td>\n",
       "      <td>43</td>\n",
       "      <td>8765</td>\n",
       "      <td>88965.55</td>\n",
       "      <td>4.95</td>\n",
       "    </tr>\n",
       "  </tbody>\n",
       "</table>\n",
       "<p>8148 rows × 5 columns</p>\n",
       "</div>"
      ],
      "text/plain": [
       "         id  age  steps    income  income10\n",
       "0     36859   48   6764  10056.43      4.00\n",
       "1     99794   39   4308  13869.47      4.14\n",
       "2     33364   36   6410  79634.92      4.90\n",
       "...     ...  ...    ...       ...       ...\n",
       "9619  42776   42   8372  10696.63      4.03\n",
       "9620  42474   28   7307  49128.60      4.69\n",
       "9622  17411   43   8765  88965.55      4.95\n",
       "\n",
       "[8148 rows x 5 columns]"
      ]
     },
     "execution_count": 42,
     "metadata": {},
     "output_type": "execute_result"
    }
   ],
   "source": [
    "# YOUR CODE HERE\n",
    "age_index = df[df['age'] < 18].index\n",
    "\n",
    "df = df.drop(age_index)\n",
    "df"
   ]
  },
  {
   "cell_type": "code",
   "execution_count": 43,
   "metadata": {
    "deletable": false,
    "editable": false,
    "nbgrader": {
     "cell_type": "code",
     "checksum": "e72aaa0a3b3f7e7dd270cae75f5a69d3",
     "grade": true,
     "grade_id": "test_rm_young",
     "locked": true,
     "points": 0.25,
     "schema_version": 3,
     "solution": false
    }
   },
   "outputs": [],
   "source": [
    "# Tests for 4f\n",
    "\n",
    "assert min(df['age']) >= 18\n",
    "assert len(df) == 8148\n"
   ]
  },
  {
   "cell_type": "markdown",
   "metadata": {
    "deletable": false,
    "editable": false,
    "nbgrader": {
     "cell_type": "markdown",
     "checksum": "f9449b02b2aea111573e9c3ec1e958c5",
     "grade": false,
     "grade_id": "part3",
     "locked": true,
     "schema_version": 3,
     "solution": false
    }
   },
   "source": [
    "## Part 5 - Basic Analyses\n",
    "\n",
    "Now that we have wrangled and cleaned our data, we can start doing some simple analyses. \n",
    "\n",
    "Here we will explore some basic descriptive summaries of our data, look into the inter-relations (correlations) between variables, and ask some simple questions about potentially interesting subsets of our data. "
   ]
  },
  {
   "cell_type": "markdown",
   "metadata": {},
   "source": [
    "**Question 5a:** Use the `describe` `pandas` method to check a descriptive summary of the data. Save the DataFrame generated by `describe` to a new variable called `desc`."
   ]
  },
  {
   "cell_type": "code",
   "execution_count": 44,
   "metadata": {
    "deletable": false,
    "nbgrader": {
     "cell_type": "code",
     "checksum": "acf71fb22f4e06d6e7c972626afaf7b4",
     "grade": false,
     "grade_id": "cell-ae86332aaa14d006",
     "locked": false,
     "schema_version": 3,
     "solution": true
    }
   },
   "outputs": [
    {
     "data": {
      "text/html": [
       "<div>\n",
       "<style scoped>\n",
       "    .dataframe tbody tr th:only-of-type {\n",
       "        vertical-align: middle;\n",
       "    }\n",
       "\n",
       "    .dataframe tbody tr th {\n",
       "        vertical-align: top;\n",
       "    }\n",
       "\n",
       "    .dataframe thead th {\n",
       "        text-align: right;\n",
       "    }\n",
       "</style>\n",
       "<table border=\"1\" class=\"dataframe\">\n",
       "  <thead>\n",
       "    <tr style=\"text-align: right;\">\n",
       "      <th></th>\n",
       "      <th>id</th>\n",
       "      <th>age</th>\n",
       "      <th>steps</th>\n",
       "      <th>income</th>\n",
       "      <th>income10</th>\n",
       "    </tr>\n",
       "  </thead>\n",
       "  <tbody>\n",
       "    <tr>\n",
       "      <th>count</th>\n",
       "      <td>8148.00</td>\n",
       "      <td>8148.00</td>\n",
       "      <td>8148.00</td>\n",
       "      <td>8148.00</td>\n",
       "      <td>8148.00</td>\n",
       "    </tr>\n",
       "    <tr>\n",
       "      <th>mean</th>\n",
       "      <td>49747.69</td>\n",
       "      <td>40.56</td>\n",
       "      <td>7516.93</td>\n",
       "      <td>25601.14</td>\n",
       "      <td>3.84</td>\n",
       "    </tr>\n",
       "    <tr>\n",
       "      <th>std</th>\n",
       "      <td>28863.25</td>\n",
       "      <td>8.47</td>\n",
       "      <td>1509.76</td>\n",
       "      <td>33373.22</td>\n",
       "      <td>1.31</td>\n",
       "    </tr>\n",
       "    <tr>\n",
       "      <th>...</th>\n",
       "      <td>...</td>\n",
       "      <td>...</td>\n",
       "      <td>...</td>\n",
       "      <td>...</td>\n",
       "      <td>...</td>\n",
       "    </tr>\n",
       "    <tr>\n",
       "      <th>50%</th>\n",
       "      <td>49624.50</td>\n",
       "      <td>41.00</td>\n",
       "      <td>7500.50</td>\n",
       "      <td>15583.95</td>\n",
       "      <td>4.19</td>\n",
       "    </tr>\n",
       "    <tr>\n",
       "      <th>75%</th>\n",
       "      <td>74852.50</td>\n",
       "      <td>46.00</td>\n",
       "      <td>8541.00</td>\n",
       "      <td>31769.22</td>\n",
       "      <td>4.50</td>\n",
       "    </tr>\n",
       "    <tr>\n",
       "      <th>max</th>\n",
       "      <td>99993.00</td>\n",
       "      <td>74.00</td>\n",
       "      <td>13093.00</td>\n",
       "      <td>736621.28</td>\n",
       "      <td>5.87</td>\n",
       "    </tr>\n",
       "  </tbody>\n",
       "</table>\n",
       "<p>8 rows × 5 columns</p>\n",
       "</div>"
      ],
      "text/plain": [
       "             id      age     steps     income  income10\n",
       "count   8148.00  8148.00   8148.00    8148.00   8148.00\n",
       "mean   49747.69    40.56   7516.93   25601.14      3.84\n",
       "std    28863.25     8.47   1509.76   33373.22      1.31\n",
       "...         ...      ...       ...        ...       ...\n",
       "50%    49624.50    41.00   7500.50   15583.95      4.19\n",
       "75%    74852.50    46.00   8541.00   31769.22      4.50\n",
       "max    99993.00    74.00  13093.00  736621.28      5.87\n",
       "\n",
       "[8 rows x 5 columns]"
      ]
     },
     "execution_count": 44,
     "metadata": {},
     "output_type": "execute_result"
    }
   ],
   "source": [
    "# YOUR CODE HERE\n",
    "desc = df.describe()\n",
    "desc"
   ]
  },
  {
   "cell_type": "code",
   "execution_count": 45,
   "metadata": {
    "deletable": false,
    "editable": false,
    "nbgrader": {
     "cell_type": "code",
     "checksum": "815a6811f9a47d68bd936d23e8ea237e",
     "grade": true,
     "grade_id": "cell-ff715fe5f2413f68",
     "locked": true,
     "points": 0.25,
     "schema_version": 3,
     "solution": false
    }
   },
   "outputs": [],
   "source": [
    "# Tests for 5a\n",
    "\n",
    "assert isinstance(desc, pd.DataFrame)"
   ]
  },
  {
   "cell_type": "markdown",
   "metadata": {},
   "source": [
    "**Question 5b:** Calculate the pairwise correlations between all variables.\n",
    "\n",
    "Note: do this with a `pandas` method. Keep all columns (including ID). Assign the result (which should be a DataFrame) to a variable called `corrs`."
   ]
  },
  {
   "cell_type": "code",
   "execution_count": 46,
   "metadata": {
    "deletable": false,
    "nbgrader": {
     "cell_type": "code",
     "checksum": "7da1586eb85496f96f780a16300d7346",
     "grade": false,
     "grade_id": "calc_corrs",
     "locked": false,
     "schema_version": 3,
     "solution": true
    }
   },
   "outputs": [
    {
     "data": {
      "text/html": [
       "<div>\n",
       "<style scoped>\n",
       "    .dataframe tbody tr th:only-of-type {\n",
       "        vertical-align: middle;\n",
       "    }\n",
       "\n",
       "    .dataframe tbody tr th {\n",
       "        vertical-align: top;\n",
       "    }\n",
       "\n",
       "    .dataframe thead th {\n",
       "        text-align: right;\n",
       "    }\n",
       "</style>\n",
       "<table border=\"1\" class=\"dataframe\">\n",
       "  <thead>\n",
       "    <tr style=\"text-align: right;\">\n",
       "      <th></th>\n",
       "      <th>id</th>\n",
       "      <th>age</th>\n",
       "      <th>steps</th>\n",
       "      <th>income</th>\n",
       "      <th>income10</th>\n",
       "    </tr>\n",
       "  </thead>\n",
       "  <tbody>\n",
       "    <tr>\n",
       "      <th>id</th>\n",
       "      <td>1.00e+00</td>\n",
       "      <td>-6.85e-03</td>\n",
       "      <td>5.56e-03</td>\n",
       "      <td>-0.03</td>\n",
       "      <td>-7.75e-03</td>\n",
       "    </tr>\n",
       "    <tr>\n",
       "      <th>age</th>\n",
       "      <td>-6.85e-03</td>\n",
       "      <td>1.00e+00</td>\n",
       "      <td>-2.82e-01</td>\n",
       "      <td>0.27</td>\n",
       "      <td>1.03e-01</td>\n",
       "    </tr>\n",
       "    <tr>\n",
       "      <th>steps</th>\n",
       "      <td>5.56e-03</td>\n",
       "      <td>-2.82e-01</td>\n",
       "      <td>1.00e+00</td>\n",
       "      <td>0.05</td>\n",
       "      <td>2.78e-02</td>\n",
       "    </tr>\n",
       "    <tr>\n",
       "      <th>income</th>\n",
       "      <td>-2.57e-02</td>\n",
       "      <td>2.67e-01</td>\n",
       "      <td>5.11e-02</td>\n",
       "      <td>1.00</td>\n",
       "      <td>4.70e-01</td>\n",
       "    </tr>\n",
       "    <tr>\n",
       "      <th>income10</th>\n",
       "      <td>-7.75e-03</td>\n",
       "      <td>1.03e-01</td>\n",
       "      <td>2.78e-02</td>\n",
       "      <td>0.47</td>\n",
       "      <td>1.00e+00</td>\n",
       "    </tr>\n",
       "  </tbody>\n",
       "</table>\n",
       "</div>"
      ],
      "text/plain": [
       "                id       age     steps  income  income10\n",
       "id        1.00e+00 -6.85e-03  5.56e-03   -0.03 -7.75e-03\n",
       "age      -6.85e-03  1.00e+00 -2.82e-01    0.27  1.03e-01\n",
       "steps     5.56e-03 -2.82e-01  1.00e+00    0.05  2.78e-02\n",
       "income   -2.57e-02  2.67e-01  5.11e-02    1.00  4.70e-01\n",
       "income10 -7.75e-03  1.03e-01  2.78e-02    0.47  1.00e+00"
      ]
     },
     "execution_count": 46,
     "metadata": {},
     "output_type": "execute_result"
    }
   ],
   "source": [
    "# YOUR CODE HERE\n",
    "corrs = df.corr(method = 'pearson')\n",
    "corrs"
   ]
  },
  {
   "cell_type": "code",
   "execution_count": 47,
   "metadata": {
    "deletable": false,
    "editable": false,
    "nbgrader": {
     "cell_type": "code",
     "checksum": "7f604b3c659cccdb712a64b7b7438b69",
     "grade": true,
     "grade_id": "test_calc_corrs",
     "locked": true,
     "points": 0.25,
     "schema_version": 3,
     "solution": false
    }
   },
   "outputs": [],
   "source": [
    "# Tests for 5b\n",
    "\n",
    "assert isinstance(corrs, pd.DataFrame)\n",
    "assert corrs.shape == (5, 5)"
   ]
  },
  {
   "cell_type": "markdown",
   "metadata": {},
   "source": [
    "**Question 5c:** Answer the following questions by setting your answer variables to either `'age'`, `'steps'`, or `'income'`.\n",
    "\n",
    "- Which variable is most correlated with age (aside from `age` itself)? Record your answer in a variable called `age_corr`. \n",
    "- Which variable is most correlated with income (aside from `income` and `income10`)? Record your answer in a variable called `inc_corr`."
   ]
  },
  {
   "cell_type": "code",
   "execution_count": 48,
   "metadata": {
    "deletable": false,
    "nbgrader": {
     "cell_type": "code",
     "checksum": "507c3a9894abf6f9003f553d43bceffb",
     "grade": false,
     "grade_id": "corrs",
     "locked": false,
     "schema_version": 3,
     "solution": true
    }
   },
   "outputs": [],
   "source": [
    "# YOUR CODE HERE\n",
    "age_corr = 'steps'\n",
    "inc_corr = 'age'"
   ]
  },
  {
   "cell_type": "code",
   "execution_count": 49,
   "metadata": {
    "deletable": false,
    "editable": false,
    "nbgrader": {
     "cell_type": "code",
     "checksum": "b12a188a3194962962ad16fd66964352",
     "grade": true,
     "grade_id": "test_corrs",
     "locked": true,
     "points": 0.25,
     "schema_version": 3,
     "solution": false
    }
   },
   "outputs": [],
   "source": [
    "# Tests for 5c\n",
    "\n",
    "assert age_corr\n",
    "assert inc_corr\n",
    "assert age_corr in {'steps', 'age', 'income'}\n",
    "assert inc_corr in {'steps', 'age', 'income'}\n"
   ]
  },
  {
   "cell_type": "markdown",
   "metadata": {},
   "source": [
    "**Question 5d:** How many steps would you have to walk to be in the top 10% of walkers? Save your answer as a variable called `top_walker`.\n",
    "\n",
    "Hint: check out the `quantile` method."
   ]
  },
  {
   "cell_type": "code",
   "execution_count": 50,
   "metadata": {
    "deletable": false,
    "nbgrader": {
     "cell_type": "code",
     "checksum": "7bfe7070156035fec1de3fccbcf424d5",
     "grade": false,
     "grade_id": "top_walkers",
     "locked": false,
     "schema_version": 3,
     "solution": true
    }
   },
   "outputs": [
    {
     "data": {
      "text/plain": [
       "5616.4"
      ]
     },
     "execution_count": 50,
     "metadata": {},
     "output_type": "execute_result"
    }
   ],
   "source": [
    "# YOUR CODE HERE\n",
    "top_walker = df.quantile(q = 0.1)\n",
    "top_walker = top_walker.steps\n",
    "top_walker"
   ]
  },
  {
   "cell_type": "code",
   "execution_count": 51,
   "metadata": {
    "deletable": false,
    "editable": false,
    "nbgrader": {
     "cell_type": "code",
     "checksum": "9162a163e027056627da18c42229ad2d",
     "grade": true,
     "grade_id": "test_top_walkers",
     "locked": true,
     "points": 0.25,
     "schema_version": 3,
     "solution": false
    }
   },
   "outputs": [],
   "source": [
    "# Tests for 5d\n",
    "\n",
    "assert top_walker\n",
    "assert isinstance(top_walker, float)\n"
   ]
  },
  {
   "cell_type": "markdown",
   "metadata": {},
   "source": [
    "**Question 5e:** What is the average income for people over the age of 45? Save your response in a variable called `old_income`.\n",
    "\n",
    "Note: We're asking for the actual income, not the log-10 of income."
   ]
  },
  {
   "cell_type": "code",
   "execution_count": 52,
   "metadata": {
    "deletable": false,
    "nbgrader": {
     "cell_type": "code",
     "checksum": "723e1b5a9a73d3fd38eb7b3502d31526",
     "grade": false,
     "grade_id": "old_income",
     "locked": false,
     "schema_version": 3,
     "solution": true
    }
   },
   "outputs": [
    {
     "data": {
      "text/plain": [
       "37454.718743961355"
      ]
     },
     "execution_count": 52,
     "metadata": {},
     "output_type": "execute_result"
    }
   ],
   "source": [
    "# YOUR CODE HERE\n",
    "old_income = df[df['age'] > 45 ]\n",
    "old_income = old_income['income'].mean()\n",
    "old_income"
   ]
  },
  {
   "cell_type": "code",
   "execution_count": 53,
   "metadata": {
    "deletable": false,
    "editable": false,
    "nbgrader": {
     "cell_type": "code",
     "checksum": "567ff881ab3536b7b6c06c5c7e2f588a",
     "grade": true,
     "grade_id": "test_old_income",
     "locked": true,
     "points": 0.25,
     "schema_version": 3,
     "solution": false
    }
   },
   "outputs": [],
   "source": [
    "# Tests for 5e\n",
    "assert old_income\n",
    "assert old_income > 5\n"
   ]
  },
  {
   "cell_type": "markdown",
   "metadata": {
    "deletable": false,
    "editable": false,
    "nbgrader": {
     "cell_type": "markdown",
     "checksum": "2914b3c2f298da3375d6ae24e1cb5f67",
     "grade": false,
     "grade_id": "part4",
     "locked": true,
     "schema_version": 3,
     "solution": false
    }
   },
   "source": [
    "# Part 6 - Predictions\n",
    "\n",
    "A frequent goal of data analysis is to understand so that we can make predictions about future or unseen data points. \n",
    "\n",
    "Here we will explore some basic predictions, looking into whether we might be able to predict income from our other variables.\n",
    "\n",
    "Note: You will use the `np.polyfit` function from `NumPy` as we did in [Tutorials/02-DataAnalysis](https://nbviewer.jupyter.org/github/COGS108/Tutorials/blob/master/02-DataAnalysis.ipynb).\n"
   ]
  },
  {
   "cell_type": "markdown",
   "metadata": {},
   "source": [
    "**Question 6a:** Use polyfit to fit a 1-degree linear model, predicting income from age. Call the output parameters `a1` and `b1`."
   ]
  },
  {
   "cell_type": "code",
   "execution_count": 54,
   "metadata": {
    "deletable": false,
    "nbgrader": {
     "cell_type": "code",
     "checksum": "b9b55307d9da264f104b8b71e96bf354",
     "grade": false,
     "grade_id": "model_1",
     "locked": false,
     "schema_version": 3,
     "solution": true
    }
   },
   "outputs": [
    {
     "name": "stdout",
     "output_type": "stream",
     "text": [
      "a1:  1052.306753115647\n",
      "b1:  -17084.309252885643\n"
     ]
    }
   ],
   "source": [
    "# YOUR CODE HERE\n",
    "a1, b1 = np.polyfit(df['age'],df['income'], 1)\n",
    "print('a1: ', a1)\n",
    "print('b1: ', b1)"
   ]
  },
  {
   "cell_type": "code",
   "execution_count": 55,
   "metadata": {
    "deletable": false,
    "editable": false,
    "nbgrader": {
     "cell_type": "code",
     "checksum": "ec81a30009edafeb1b6e9858ff36471a",
     "grade": true,
     "grade_id": "test_model_1",
     "locked": true,
     "points": 0.5,
     "schema_version": 3,
     "solution": false
    }
   },
   "outputs": [],
   "source": [
    "# Tests for 6a\n",
    "\n",
    "assert(a1)\n",
    "assert(b1)\n",
    "\n",
    "# If you fail these tests, your parameter values are quite far from what they\n",
    "# should be.\n",
    "assert abs(a1) > 100\n",
    "assert abs(b1) > 100\n"
   ]
  },
  {
   "cell_type": "markdown",
   "metadata": {},
   "source": [
    "**Question 6b:** Use the model parameters from 6a to predict the income of a 75-year-old. Call your prediction `pred_75`."
   ]
  },
  {
   "cell_type": "code",
   "execution_count": 56,
   "metadata": {
    "deletable": false,
    "nbgrader": {
     "cell_type": "code",
     "checksum": "c7f5556203c6f37a898b530a8e54130e",
     "grade": false,
     "grade_id": "pred_1",
     "locked": false,
     "schema_version": 3,
     "solution": true
    }
   },
   "outputs": [
    {
     "data": {
      "text/plain": [
       "61838.69723078788"
      ]
     },
     "execution_count": 56,
     "metadata": {},
     "output_type": "execute_result"
    }
   ],
   "source": [
    "# YOUR CODE HERE\n",
    "pred_75 = a1*(75) + b1\n",
    "pred_75"
   ]
  },
  {
   "cell_type": "code",
   "execution_count": 57,
   "metadata": {
    "deletable": false,
    "editable": false,
    "nbgrader": {
     "cell_type": "code",
     "checksum": "0762a7a88401852c4048483cc021e77d",
     "grade": true,
     "grade_id": "test_pred_1",
     "locked": true,
     "points": 0.5,
     "schema_version": 3,
     "solution": false
    }
   },
   "outputs": [],
   "source": [
    "# Tests for 6b\n",
    "\n",
    "assert(pred_75)\n"
   ]
  },
  {
   "cell_type": "markdown",
   "metadata": {},
   "source": [
    "**Question 6c:** Use polyfit once more to fit a 1-degree linear model, predicting income from steps. Call the output parameters `a2` and `b2`."
   ]
  },
  {
   "cell_type": "code",
   "execution_count": 58,
   "metadata": {
    "deletable": false,
    "nbgrader": {
     "cell_type": "code",
     "checksum": "c42d681f43bc8e7ea2e33dbf659d3edb",
     "grade": false,
     "grade_id": "model_2",
     "locked": false,
     "schema_version": 3,
     "solution": true
    }
   },
   "outputs": [
    {
     "name": "stdout",
     "output_type": "stream",
     "text": [
      "a2:  1.1305502373938914\n",
      "b2:  17102.87738180716\n"
     ]
    }
   ],
   "source": [
    "# YOUR CODE HERE\n",
    "a2, b2 = np.polyfit(df['steps'],df['income'], 1)\n",
    "print('a2: ', a2)\n",
    "print('b2: ', b2)"
   ]
  },
  {
   "cell_type": "code",
   "execution_count": 59,
   "metadata": {
    "deletable": false,
    "editable": false,
    "nbgrader": {
     "cell_type": "code",
     "checksum": "dfd53d461aa216841003a71bcbf33c9d",
     "grade": true,
     "grade_id": "test_model_2",
     "locked": true,
     "points": 0.25,
     "schema_version": 3,
     "solution": false
    }
   },
   "outputs": [],
   "source": [
    "# Tests for 6c\n",
    "\n",
    "assert(a2)\n",
    "assert(b2)\n",
    "\n",
    "# If you fail these tests, your parameter values are quite far from what they\n",
    "# should be.\n",
    "assert abs(a2) < 100\n",
    "assert abs(b2) > 100\n"
   ]
  },
  {
   "cell_type": "markdown",
   "metadata": {},
   "source": [
    "**Question 6d:** Predict the income of someone who took 10,000 steps. Call your prediction `pred_10k`."
   ]
  },
  {
   "cell_type": "code",
   "execution_count": 60,
   "metadata": {
    "deletable": false,
    "nbgrader": {
     "cell_type": "code",
     "checksum": "5b9950130ca295b597ac005c95bd15d3",
     "grade": false,
     "grade_id": "pred_2",
     "locked": false,
     "schema_version": 3,
     "solution": true
    }
   },
   "outputs": [
    {
     "data": {
      "text/plain": [
       "28408.379755746075"
      ]
     },
     "execution_count": 60,
     "metadata": {},
     "output_type": "execute_result"
    }
   ],
   "source": [
    "# YOUR CODE HERE\n",
    "pred_10k = a2*(10000) + b2\n",
    "pred_10k"
   ]
  },
  {
   "cell_type": "code",
   "execution_count": 61,
   "metadata": {
    "deletable": false,
    "editable": false,
    "nbgrader": {
     "cell_type": "code",
     "checksum": "bda87c3966221654a9d6036a70846ca0",
     "grade": true,
     "grade_id": "test_pred_2",
     "locked": true,
     "points": 0.25,
     "schema_version": 3,
     "solution": false
    }
   },
   "outputs": [],
   "source": [
    "# Test for 6d\n",
    "\n",
    "assert(pred_10k)\n"
   ]
  },
  {
   "cell_type": "markdown",
   "metadata": {},
   "source": [
    "**Question 6e:** To better understand a model, we can visualize its predictions. Use your first model to predict income from each integer age in between 18 and 80. Your predictions should be stored in a numpy array of floats called `pred_age`."
   ]
  },
  {
   "cell_type": "code",
   "execution_count": 62,
   "metadata": {
    "deletable": false,
    "nbgrader": {
     "cell_type": "code",
     "checksum": "30ccac0d4ae8e4b117f2fe8706652456",
     "grade": false,
     "grade_id": "pred_age",
     "locked": false,
     "schema_version": 3,
     "solution": true
    }
   },
   "outputs": [
    {
     "data": {
      "text/plain": [
       "array([ 1857.2123032 ,  2909.51905631,  3961.82580943,  5014.13256254,\n",
       "        6066.43931566,  7118.74606877,  8171.05282189,  9223.35957501,\n",
       "       10275.66632812, 11327.97308124, 12380.27983435, 13432.58658747,\n",
       "       14484.89334058, 15537.2000937 , 16589.50684682, 17641.81359993,\n",
       "       18694.12035305, 19746.42710616, 20798.73385928, 21851.04061239,\n",
       "       22903.34736551, 23955.65411862, 25007.96087174, 26060.26762486,\n",
       "       27112.57437797, 28164.88113109, 29217.1878842 , 30269.49463732,\n",
       "       31321.80139043, 32374.10814355, 33426.41489667, 34478.72164978,\n",
       "       35531.0284029 , 36583.33515601, 37635.64190913, 38687.94866224,\n",
       "       39740.25541536, 40792.56216847, 41844.86892159, 42897.17567471,\n",
       "       43949.48242782, 45001.78918094, 46054.09593405, 47106.40268717,\n",
       "       48158.70944028, 49211.0161934 , 50263.32294652, 51315.62969963,\n",
       "       52367.93645275, 53420.24320586, 54472.54995898, 55524.85671209,\n",
       "       56577.16346521, 57629.47021833, 58681.77697144, 59734.08372456,\n",
       "       60786.39047767, 61838.69723079, 62891.0039839 , 63943.31073702,\n",
       "       64995.61749013, 66047.92424325, 67100.23099637])"
      ]
     },
     "execution_count": 62,
     "metadata": {},
     "output_type": "execute_result"
    }
   ],
   "source": [
    "# YOUR CODE HERE\n",
    "ages = np.arange(18,81)\n",
    "pred_age = a1*(ages) + b1\n",
    "pred_age"
   ]
  },
  {
   "cell_type": "code",
   "execution_count": 63,
   "metadata": {
    "deletable": false,
    "editable": false,
    "nbgrader": {
     "cell_type": "code",
     "checksum": "36184d243789f8c5db7d2e2c2eed79e4",
     "grade": true,
     "grade_id": "test_pred_age",
     "locked": true,
     "points": 0.25,
     "schema_version": 3,
     "solution": false
    }
   },
   "outputs": [],
   "source": [
    "assert isinstance(pred_age, np.ndarray)\n",
    "assert len(pred_age) == 63\n",
    "\n",
    "# Your array should contain decimals, not integers\n",
    "assert isinstance(pred_age[0], float)\n"
   ]
  },
  {
   "cell_type": "markdown",
   "metadata": {},
   "source": [
    "**Question 6f:** Make a scatter plot with income on the y-axis and age on the x-axis. Then, draw your predictions as a red line on top of the scatter plot. Your plot should look like this:\n",
    "\n",
    "![](income_steps_pred.png)"
   ]
  },
  {
   "cell_type": "code",
   "execution_count": 64,
   "metadata": {
    "deletable": false,
    "nbgrader": {
     "cell_type": "code",
     "checksum": "761e264f41b554842a0753ce8fafc70a",
     "grade": false,
     "grade_id": "pred_age_plot",
     "locked": false,
     "schema_version": 3,
     "solution": true
    }
   },
   "outputs": [
    {
     "data": {
      "image/png": "[encoded data removed]",
      "text/plain": [
       "<Figure size 432x288 with 1 Axes>"
      ]
     },
     "metadata": {},
     "output_type": "display_data"
    }
   ],
   "source": [
    "# YOUR CODE HERE\n",
    "plt.scatter(df['age'], df['income'], c = 'blue', s=10)\n",
    "plt.plot(ages, pred_age, c = 'red')\n",
    "\n",
    "f5 = plt.gcf()"
   ]
  },
  {
   "cell_type": "code",
   "execution_count": 65,
   "metadata": {
    "deletable": false,
    "editable": false,
    "nbgrader": {
     "cell_type": "code",
     "checksum": "7be26b91ef977965c30d9769635c2d91",
     "grade": true,
     "grade_id": "test_pred_age_plot",
     "locked": true,
     "points": 0.5,
     "schema_version": 3,
     "solution": false
    }
   },
   "outputs": [],
   "source": [
    "assert f5.gca().has_data()"
   ]
  },
  {
   "cell_type": "markdown",
   "metadata": {},
   "source": [
    "**Question 6g:** Now, let's do the same for the model that uses steps.\n",
    "\n",
    "Use your second model to predict income from each multiple of 100 steps in between 2000 and 13000. Your predictions should be stored in a numpy array called `pred_steps`."
   ]
  },
  {
   "cell_type": "code",
   "execution_count": 66,
   "metadata": {
    "deletable": false,
    "nbgrader": {
     "cell_type": "code",
     "checksum": "90a5fe5b6b84c0ba8a979fac018835d2",
     "grade": false,
     "grade_id": "pred_steps",
     "locked": false,
     "schema_version": 3,
     "solution": true
    }
   },
   "outputs": [
    {
     "data": {
      "text/plain": [
       "array([19363.97785659, 19477.03288033, 19590.08790407, 19703.14292781,\n",
       "       19816.19795155, 19929.25297529, 20042.30799903, 20155.36302277,\n",
       "       20268.41804651, 20381.47307025, 20494.52809399, 20607.58311773,\n",
       "       20720.63814147, 20833.69316521, 20946.74818895, 21059.80321269,\n",
       "       21172.85823643, 21285.91326016, 21398.9682839 , 21512.02330764,\n",
       "       21625.07833138, 21738.13335512, 21851.18837886, 21964.2434026 ,\n",
       "       22077.29842634, 22190.35345008, 22303.40847382, 22416.46349756,\n",
       "       22529.5185213 , 22642.57354504, 22755.62856878, 22868.68359252,\n",
       "       22981.73861626, 23094.79363999, 23207.84866373, 23320.90368747,\n",
       "       23433.95871121, 23547.01373495, 23660.06875869, 23773.12378243,\n",
       "       23886.17880617, 23999.23382991, 24112.28885365, 24225.34387739,\n",
       "       24338.39890113, 24451.45392487, 24564.50894861, 24677.56397235,\n",
       "       24790.61899609, 24903.67401983, 25016.72904356, 25129.7840673 ,\n",
       "       25242.83909104, 25355.89411478, 25468.94913852, 25582.00416226,\n",
       "       25695.059186  , 25808.11420974, 25921.16923348, 26034.22425722,\n",
       "       26147.27928096, 26260.3343047 , 26373.38932844, 26486.44435218,\n",
       "       26599.49937592, 26712.55439966, 26825.60942339, 26938.66444713,\n",
       "       27051.71947087, 27164.77449461, 27277.82951835, 27390.88454209,\n",
       "       27503.93956583, 27616.99458957, 27730.04961331, 27843.10463705,\n",
       "       27956.15966079, 28069.21468453, 28182.26970827, 28295.32473201,\n",
       "       28408.37975575, 28521.43477949, 28634.48980322, 28747.54482696,\n",
       "       28860.5998507 , 28973.65487444, 29086.70989818, 29199.76492192,\n",
       "       29312.81994566, 29425.8749694 , 29538.92999314, 29651.98501688,\n",
       "       29765.04004062, 29878.09506436, 29991.1500881 , 30104.20511184,\n",
       "       30217.26013558, 30330.31515932, 30443.37018306, 30556.42520679,\n",
       "       30669.48023053, 30782.53525427, 30895.59027801, 31008.64530175,\n",
       "       31121.70032549, 31234.75534923, 31347.81037297, 31460.86539671,\n",
       "       31573.92042045, 31686.97544419, 31800.03046793])"
      ]
     },
     "execution_count": 66,
     "metadata": {},
     "output_type": "execute_result"
    }
   ],
   "source": [
    "# YOUR CODE HERE\n",
    "steps = np.arange(2000, 13100, 100)\n",
    "pred_steps = a2*(steps) + b2\n",
    "pred_steps"
   ]
  },
  {
   "cell_type": "code",
   "execution_count": 67,
   "metadata": {
    "deletable": false,
    "editable": false,
    "nbgrader": {
     "cell_type": "code",
     "checksum": "eb8ace87be1b7331bc45cb7f931dcc3c",
     "grade": true,
     "grade_id": "test_pred_steps",
     "locked": true,
     "points": 0.5,
     "schema_version": 3,
     "solution": false
    }
   },
   "outputs": [],
   "source": [
    "assert isinstance(pred_steps, np.ndarray)\n",
    "assert len(pred_steps) == 111\n",
    "# Your array should contain decimals, not integers\n",
    "assert isinstance(pred_steps[0], float)\n"
   ]
  },
  {
   "cell_type": "markdown",
   "metadata": {},
   "source": [
    "**Question 6h:** Make a scatter plot with income on the y-axis and steps on the x-axis. Then, draw your predictions as a red line on top of the scatter plot. Your plot should look like this:\n",
    "\n",
    "![](income_age_pred.png)"
   ]
  },
  {
   "cell_type": "code",
   "execution_count": 68,
   "metadata": {
    "deletable": false,
    "nbgrader": {
     "cell_type": "code",
     "checksum": "745627d3e8dcd9db622dad1a3c7dfd34",
     "grade": false,
     "grade_id": "pred_steps_plot",
     "locked": false,
     "schema_version": 3,
     "solution": true
    }
   },
   "outputs": [
    {
     "data": {
      "image/png": "[encoded data removed]",
      "text/plain": [
       "<Figure size 432x288 with 1 Axes>"
      ]
     },
     "metadata": {},
     "output_type": "display_data"
    }
   ],
   "source": [
    "# YOUR CODE HERE\n",
    "plt.scatter(df['steps'], df['income'], c = 'blue', s=10)\n",
    "plt.plot(steps, pred_steps, c = 'red')\n",
    "\n",
    "f6 = plt.gcf()"
   ]
  },
  {
   "cell_type": "code",
   "execution_count": 69,
   "metadata": {
    "deletable": false,
    "editable": false,
    "nbgrader": {
     "cell_type": "code",
     "checksum": "f961008588d11d65b558ef52ca59d198",
     "grade": true,
     "grade_id": "test_pred_steps_plot",
     "locked": true,
     "points": 0.5,
     "schema_version": 3,
     "solution": false
    }
   },
   "outputs": [],
   "source": [
    "assert f6.gca().has_data()"
   ]
  },
  {
   "cell_type": "markdown",
   "metadata": {},
   "source": [
    "**Question 6i:** Notice that both these models perform poorly on this data. For this particular dataset, neither age nor steps seem to have a linear relationship with income. Nonetheless, fitting a linear model is simple and gives us a baseline to compare with more complex models in the future.\n",
    "\n",
    "Suppose that you were forced to pick one of the above models. Between `'age'` and `'steps'`, which predictor has higher prediction power? Save your response in the variable `model_choice`."
   ]
  },
  {
   "cell_type": "code",
   "execution_count": 70,
   "metadata": {
    "deletable": false,
    "nbgrader": {
     "cell_type": "code",
     "checksum": "1f58d3e684aeddb8f4f6da7da53ddec0",
     "grade": false,
     "grade_id": "model_choice",
     "locked": false,
     "schema_version": 3,
     "solution": true
    }
   },
   "outputs": [],
   "source": [
    "# YOUR CODE HERE\n",
    "model_choice = 'age'"
   ]
  },
  {
   "cell_type": "code",
   "execution_count": 71,
   "metadata": {
    "deletable": false,
    "editable": false,
    "nbgrader": {
     "cell_type": "code",
     "checksum": "3e4cb59e0a163a3e000b991f9c10e8ec",
     "grade": true,
     "grade_id": "test_model_choice",
     "locked": true,
     "points": 0.5,
     "schema_version": 3,
     "solution": false
    }
   },
   "outputs": [],
   "source": [
    "assert model_choice\n",
    "assert model_choice in {'age', 'steps'}\n"
   ]
  },
  {
   "cell_type": "markdown",
   "metadata": {
    "deletable": false,
    "editable": false,
    "nbgrader": {
     "cell_type": "markdown",
     "checksum": "883aa8f1afaa90ab66667f57a92435cc",
     "grade": false,
     "grade_id": "done",
     "locked": true,
     "schema_version": 3,
     "solution": false
    }
   },
   "source": [
    "## Done! Re-start & run all cells to be sure that everything passes the included asserts. Once you validate, submit on DataHub!"
   ]
  }
 ],
 "metadata": {
  "kernelspec": {
   "display_name": "Python 3",
   "language": "python",
   "name": "python3"
  },
  "language_info": {
   "codemirror_mode": {
    "name": "ipython",
    "version": 3
   },
   "file_extension": ".py",
   "mimetype": "text/x-python",
   "name": "python",
   "nbconvert_exporter": "python",
   "pygments_lexer": "ipython3",
   "version": "3.8.5"
  }
 },
 "nbformat": 4,
 "nbformat_minor": 2
}
